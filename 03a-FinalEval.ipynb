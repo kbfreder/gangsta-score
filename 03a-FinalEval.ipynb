{
 "cells": [
  {
   "cell_type": "code",
   "execution_count": 1,
   "metadata": {},
   "outputs": [],
   "source": [
    "import warnings\n",
    "warnings.filterwarnings(action='ignore', category=FutureWarning)\n",
    "warnings.filterwarnings(action='ignore', category=DeprecationWarning)\n",
    "\n",
    "import pandas as pd\n",
    "import numpy as np\n",
    "import matplotlib.pyplot as plt\n",
    "import seaborn as sns\n",
    "import numpy as np\n",
    "\n",
    "import util as u\n",
    "import text_processing as tp\n",
    "%load_ext autoreload\n",
    "%autoreload 2\n",
    "\n",
    "from sklearn.metrics.pairwise import cosine_similarity\n",
    "\n",
    "from nltk.cluster.kmeans import KMeansClusterer\n",
    "from nltk.cluster.util import cosine_distance"
   ]
  },
  {
   "cell_type": "code",
   "execution_count": 2,
   "metadata": {},
   "outputs": [],
   "source": [
    "from matplotlib import rcParams\n",
    "rcParams.update({'figure.autolayout': True})"
   ]
  },
  {
   "cell_type": "markdown",
   "metadata": {},
   "source": [
    "### Load data"
   ]
  },
  {
   "cell_type": "code",
   "execution_count": 4,
   "metadata": {},
   "outputs": [],
   "source": [
    "df = u.open_pkl('Data/all_lyrics_with_sim_df_9_topics.pkl')\n",
    "df.rename(columns={'Median Most Sim Idx':'Median Most Sim'}, inplace=True)\n",
    "country_idx_start = np.min(list(df[df['Genre'] == 'country'].index))\n",
    "\n",
    "df['Genre_Most_Sim'] = df['Median Most Sim'].apply(lambda x: 'rap' if x < country_idx_start else 'country')\n",
    "\n",
    "rap_df = df[df['Genre'] == 'rap']\n",
    "cnty_df = df[df['Genre'] == 'country']\n",
    "\n",
    "transX = u.open_pkl('Data/tf_sparse_mtx.pkl')\n",
    "lda_X = u.open_pkl('Data/lda_transformed_mtx.pkl')\n",
    "# lda_topics = u.open_pkl('Data/lda_topics_9.pkl')\n",
    "# hd_mtx = u.open_pkl('Data/hd_sim_lda_mtx.pkl')  # Hellinger Distance between document LDA feature vectors"
   ]
  },
  {
   "cell_type": "markdown",
   "metadata": {},
   "source": [
    "### Swap order of \"columns\" in lda_X to match order of topics in pyLDAvis\n",
    "In pyLDAvis: topic 1 = topic 7 in lda_X, & \n",
    "topic 2 = topic 5"
   ]
  },
  {
   "cell_type": "code",
   "execution_count": 5,
   "metadata": {},
   "outputs": [],
   "source": [
    "lda_X_orig = lda_X.copy()\n",
    "lda_df = pd.DataFrame(lda_X)"
   ]
  },
  {
   "cell_type": "code",
   "execution_count": 7,
   "metadata": {},
   "outputs": [
    {
     "data": {
      "text/html": [
       "<div>\n",
       "<style scoped>\n",
       "    .dataframe tbody tr th:only-of-type {\n",
       "        vertical-align: middle;\n",
       "    }\n",
       "\n",
       "    .dataframe tbody tr th {\n",
       "        vertical-align: top;\n",
       "    }\n",
       "\n",
       "    .dataframe thead th {\n",
       "        text-align: right;\n",
       "    }\n",
       "</style>\n",
       "<table border=\"1\" class=\"dataframe\">\n",
       "  <thead>\n",
       "    <tr style=\"text-align: right;\">\n",
       "      <th></th>\n",
       "      <th>0</th>\n",
       "      <th>1</th>\n",
       "      <th>2</th>\n",
       "      <th>3</th>\n",
       "      <th>4</th>\n",
       "      <th>5</th>\n",
       "      <th>6</th>\n",
       "      <th>7</th>\n",
       "      <th>8</th>\n",
       "    </tr>\n",
       "  </thead>\n",
       "  <tbody>\n",
       "    <tr>\n",
       "      <th>0</th>\n",
       "      <td>0.000182</td>\n",
       "      <td>0.000182</td>\n",
       "      <td>0.000182</td>\n",
       "      <td>0.000182</td>\n",
       "      <td>0.000182</td>\n",
       "      <td>0.014153</td>\n",
       "      <td>0.000182</td>\n",
       "      <td>0.984577</td>\n",
       "      <td>0.000182</td>\n",
       "    </tr>\n",
       "    <tr>\n",
       "      <th>1</th>\n",
       "      <td>0.093289</td>\n",
       "      <td>0.000177</td>\n",
       "      <td>0.000177</td>\n",
       "      <td>0.000177</td>\n",
       "      <td>0.000177</td>\n",
       "      <td>0.540790</td>\n",
       "      <td>0.000177</td>\n",
       "      <td>0.364859</td>\n",
       "      <td>0.000177</td>\n",
       "    </tr>\n",
       "    <tr>\n",
       "      <th>2</th>\n",
       "      <td>0.000145</td>\n",
       "      <td>0.000145</td>\n",
       "      <td>0.000145</td>\n",
       "      <td>0.708916</td>\n",
       "      <td>0.000145</td>\n",
       "      <td>0.290068</td>\n",
       "      <td>0.000145</td>\n",
       "      <td>0.000145</td>\n",
       "      <td>0.000145</td>\n",
       "    </tr>\n",
       "    <tr>\n",
       "      <th>3</th>\n",
       "      <td>0.000161</td>\n",
       "      <td>0.000161</td>\n",
       "      <td>0.000161</td>\n",
       "      <td>0.520857</td>\n",
       "      <td>0.000161</td>\n",
       "      <td>0.236241</td>\n",
       "      <td>0.000161</td>\n",
       "      <td>0.241935</td>\n",
       "      <td>0.000161</td>\n",
       "    </tr>\n",
       "    <tr>\n",
       "      <th>4</th>\n",
       "      <td>0.000341</td>\n",
       "      <td>0.000341</td>\n",
       "      <td>0.000341</td>\n",
       "      <td>0.400660</td>\n",
       "      <td>0.000341</td>\n",
       "      <td>0.596950</td>\n",
       "      <td>0.000341</td>\n",
       "      <td>0.000341</td>\n",
       "      <td>0.000341</td>\n",
       "    </tr>\n",
       "  </tbody>\n",
       "</table>\n",
       "</div>"
      ],
      "text/plain": [
       "          0         1         2         3         4         5         6  \\\n",
       "0  0.000182  0.000182  0.000182  0.000182  0.000182  0.014153  0.000182   \n",
       "1  0.093289  0.000177  0.000177  0.000177  0.000177  0.540790  0.000177   \n",
       "2  0.000145  0.000145  0.000145  0.708916  0.000145  0.290068  0.000145   \n",
       "3  0.000161  0.000161  0.000161  0.520857  0.000161  0.236241  0.000161   \n",
       "4  0.000341  0.000341  0.000341  0.400660  0.000341  0.596950  0.000341   \n",
       "\n",
       "          7         8  \n",
       "0  0.984577  0.000182  \n",
       "1  0.364859  0.000177  \n",
       "2  0.000145  0.000145  \n",
       "3  0.241935  0.000161  \n",
       "4  0.000341  0.000341  "
      ]
     },
     "execution_count": 7,
     "metadata": {},
     "output_type": "execute_result"
    }
   ],
   "source": [
    "lda_df.head()"
   ]
  },
  {
   "cell_type": "code",
   "execution_count": 6,
   "metadata": {},
   "outputs": [],
   "source": [
    "new_cols_order = [7,5,0,1,2,3,4,6,8]\n",
    "lda_df = lda_df[new_cols_order]"
   ]
  },
  {
   "cell_type": "code",
   "execution_count": 9,
   "metadata": {},
   "outputs": [
    {
     "data": {
      "text/html": [
       "<div>\n",
       "<style scoped>\n",
       "    .dataframe tbody tr th:only-of-type {\n",
       "        vertical-align: middle;\n",
       "    }\n",
       "\n",
       "    .dataframe tbody tr th {\n",
       "        vertical-align: top;\n",
       "    }\n",
       "\n",
       "    .dataframe thead th {\n",
       "        text-align: right;\n",
       "    }\n",
       "</style>\n",
       "<table border=\"1\" class=\"dataframe\">\n",
       "  <thead>\n",
       "    <tr style=\"text-align: right;\">\n",
       "      <th></th>\n",
       "      <th>7</th>\n",
       "      <th>5</th>\n",
       "      <th>0</th>\n",
       "      <th>1</th>\n",
       "      <th>2</th>\n",
       "      <th>3</th>\n",
       "      <th>4</th>\n",
       "      <th>6</th>\n",
       "      <th>8</th>\n",
       "    </tr>\n",
       "  </thead>\n",
       "  <tbody>\n",
       "    <tr>\n",
       "      <th>0</th>\n",
       "      <td>0.984577</td>\n",
       "      <td>0.014153</td>\n",
       "      <td>0.000182</td>\n",
       "      <td>0.000182</td>\n",
       "      <td>0.000182</td>\n",
       "      <td>0.000182</td>\n",
       "      <td>0.000182</td>\n",
       "      <td>0.000182</td>\n",
       "      <td>0.000182</td>\n",
       "    </tr>\n",
       "    <tr>\n",
       "      <th>1</th>\n",
       "      <td>0.364859</td>\n",
       "      <td>0.540790</td>\n",
       "      <td>0.093289</td>\n",
       "      <td>0.000177</td>\n",
       "      <td>0.000177</td>\n",
       "      <td>0.000177</td>\n",
       "      <td>0.000177</td>\n",
       "      <td>0.000177</td>\n",
       "      <td>0.000177</td>\n",
       "    </tr>\n",
       "    <tr>\n",
       "      <th>2</th>\n",
       "      <td>0.000145</td>\n",
       "      <td>0.290068</td>\n",
       "      <td>0.000145</td>\n",
       "      <td>0.000145</td>\n",
       "      <td>0.000145</td>\n",
       "      <td>0.708916</td>\n",
       "      <td>0.000145</td>\n",
       "      <td>0.000145</td>\n",
       "      <td>0.000145</td>\n",
       "    </tr>\n",
       "    <tr>\n",
       "      <th>3</th>\n",
       "      <td>0.241935</td>\n",
       "      <td>0.236241</td>\n",
       "      <td>0.000161</td>\n",
       "      <td>0.000161</td>\n",
       "      <td>0.000161</td>\n",
       "      <td>0.520857</td>\n",
       "      <td>0.000161</td>\n",
       "      <td>0.000161</td>\n",
       "      <td>0.000161</td>\n",
       "    </tr>\n",
       "    <tr>\n",
       "      <th>4</th>\n",
       "      <td>0.000341</td>\n",
       "      <td>0.596950</td>\n",
       "      <td>0.000341</td>\n",
       "      <td>0.000341</td>\n",
       "      <td>0.000341</td>\n",
       "      <td>0.400660</td>\n",
       "      <td>0.000341</td>\n",
       "      <td>0.000341</td>\n",
       "      <td>0.000341</td>\n",
       "    </tr>\n",
       "  </tbody>\n",
       "</table>\n",
       "</div>"
      ],
      "text/plain": [
       "          7         5         0         1         2         3         4  \\\n",
       "0  0.984577  0.014153  0.000182  0.000182  0.000182  0.000182  0.000182   \n",
       "1  0.364859  0.540790  0.093289  0.000177  0.000177  0.000177  0.000177   \n",
       "2  0.000145  0.290068  0.000145  0.000145  0.000145  0.708916  0.000145   \n",
       "3  0.241935  0.236241  0.000161  0.000161  0.000161  0.520857  0.000161   \n",
       "4  0.000341  0.596950  0.000341  0.000341  0.000341  0.400660  0.000341   \n",
       "\n",
       "          6         8  \n",
       "0  0.000182  0.000182  \n",
       "1  0.000177  0.000177  \n",
       "2  0.000145  0.000145  \n",
       "3  0.000161  0.000161  \n",
       "4  0.000341  0.000341  "
      ]
     },
     "execution_count": 9,
     "metadata": {},
     "output_type": "execute_result"
    }
   ],
   "source": [
    "lda_df.head()"
   ]
  },
  {
   "cell_type": "code",
   "execution_count": 7,
   "metadata": {},
   "outputs": [],
   "source": [
    "lda_X = lda_df.as_matrix()"
   ]
  },
  {
   "cell_type": "code",
   "execution_count": 11,
   "metadata": {},
   "outputs": [
    {
     "name": "stdout",
     "output_type": "stream",
     "text": [
      "0: 0.9846\n",
      "1: 0.0142\n",
      "2: 0.0002\n",
      "3: 0.0002\n",
      "4: 0.0002\n",
      "5: 0.0002\n",
      "6: 0.0002\n",
      "7: 0.0002\n",
      "8: 0.0002\n"
     ]
    }
   ],
   "source": [
    "u.pp_lda(0, lda_X)"
   ]
  },
  {
   "cell_type": "code",
   "execution_count": 12,
   "metadata": {},
   "outputs": [
    {
     "name": "stdout",
     "output_type": "stream",
     "text": [
      "0: 0.0002\n",
      "1: 0.0002\n",
      "2: 0.0002\n",
      "3: 0.0002\n",
      "4: 0.0002\n",
      "5: 0.0142\n",
      "6: 0.0002\n",
      "7: 0.9846\n",
      "8: 0.0002\n"
     ]
    }
   ],
   "source": [
    "u.pp_lda(0, lda_X_orig)"
   ]
  },
  {
   "cell_type": "code",
   "execution_count": 8,
   "metadata": {},
   "outputs": [],
   "source": [
    "u.pkl_this(\"Data/lda_reordered_for_gscore.pkl\", lda_X)"
   ]
  },
  {
   "cell_type": "markdown",
   "metadata": {},
   "source": [
    "#### Do same for lda_topics"
   ]
  },
  {
   "cell_type": "code",
   "execution_count": 9,
   "metadata": {},
   "outputs": [],
   "source": [
    "# lda_topics_orig = lda_topics\n",
    "# lda_topics = [lda_topics_orig[x] for x in new_cols_order]\n",
    "\n",
    "# u.pkl_this(\"Data/lda_topics_reordered_for_gscore.pkl\", lda_topics)"
   ]
  },
  {
   "cell_type": "markdown",
   "metadata": {},
   "source": [
    "### Define Colors"
   ]
  },
  {
   "cell_type": "code",
   "execution_count": 9,
   "metadata": {},
   "outputs": [],
   "source": [
    "tc_color, cr_color, tr_color = ['#d8b365','#999999','#5ab4ac']\n",
    "cat1_color, cat2_color = ['xkcd:medium blue', 'xkcd:powder blue']\n",
    "clu1_color, clu2_color = ['xkcd:purple blue', 'xkcd:pastel purple']"
   ]
  },
  {
   "cell_type": "markdown",
   "metadata": {},
   "source": [
    "### Comparing individual songs' LDA vectors"
   ]
  },
  {
   "cell_type": "code",
   "execution_count": 10,
   "metadata": {},
   "outputs": [],
   "source": [
    "def lda_plot_data(idx):\n",
    "    d = lda_X[idx]\n",
    "    d1 = d[0]\n",
    "    d2 = d[1]\n",
    "    drest = np.sum(d[2:])\n",
    "    return [d1, d2, drest]"
   ]
  },
  {
   "cell_type": "code",
   "execution_count": 11,
   "metadata": {},
   "outputs": [
    {
     "data": {
      "text/plain": [
       "8.201800744000414"
      ]
     },
     "execution_count": 11,
     "metadata": {},
     "output_type": "execute_result"
    }
   ],
   "source": [
    "u.gangsta_score(114, lda_X)"
   ]
  },
  {
   "cell_type": "code",
   "execution_count": 12,
   "metadata": {},
   "outputs": [
    {
     "data": {
      "text/plain": [
       "-7.722093499109423"
      ]
     },
     "execution_count": 12,
     "metadata": {},
     "output_type": "execute_result"
    }
   ],
   "source": [
    "u.gangsta_score(1491, lda_X)"
   ]
  },
  {
   "cell_type": "code",
   "execution_count": 13,
   "metadata": {},
   "outputs": [],
   "source": [
    "r = lda_plot_data(114) \n",
    "c = lda_plot_data(2001)"
   ]
  },
  {
   "cell_type": "code",
   "execution_count": 16,
   "metadata": {},
   "outputs": [
    {
     "name": "stderr",
     "output_type": "stream",
     "text": [
      "/Users/kendra/anaconda3/lib/python3.6/site-packages/matplotlib/figure.py:2362: UserWarning: This figure includes Axes that are not compatible with tight_layout, so results might be incorrect.\n",
      "  warnings.warn(\"This figure includes Axes that are not compatible \"\n"
     ]
    },
    {
     "data": {
      "image/png": "[encoded data removed]",
      "text/plain": [
       "<Figure size 576x360 with 1 Axes>"
      ]
     },
     "metadata": {
      "needs_background": "light"
     },
     "output_type": "display_data"
    }
   ],
   "source": [
    "n = 2\n",
    "xs = np.arange(n)\n",
    "w = 0.75\n",
    "plt.figure(figsize=(8,5))\n",
    "plt.bar(xs, [r[0], c[0]], width=w, label='Topic 1', color=cat1_color)\n",
    "plt.bar(xs, [r[1], c[1]], width=w, bottom=[r[0], c[0]], label='Topic 2', color=cat2_color)\n",
    "plt.bar(xs, [r[2], c[2]], width=w, bottom=[r[0] + r[1], c[0] + c[1]], label='other topics', color='xkcd:grey')\n",
    "\n",
    "\n",
    "# plt.bar(xs[::3]-0.5, lda_X[2000, [5,7]], width=w, label='Country')\n",
    "ax = plt.gca()\n",
    "# hide_axes(ax, False)\n",
    "ax.spines['top'].set_visible(False)\n",
    "ax.spines['right'].set_visible(False)\n",
    "#     ax.spines['bottom'].set_visible(bottom)\n",
    "ax.spines['left'].set_visible(False)\n",
    "\n",
    "plt.tick_params(left=False) #, labelleft=False, bottom=bottom, labelbottom=bottom) #, labelbottom='on')\n",
    "\n",
    "plt.xticks(xs, [\"Rap\", \"Country\"])#[f'{x}' for x in xs])\n",
    "ax.set_ylabel('Importance', rotation=0, fontsize=18)\n",
    "ax.yaxis.set_label_coords(-0.05,1.0)\n",
    "\n",
    "plt.legend(fontsize=16, loc=(1, 0.7), frameon=False);\n",
    "plt.savefig('Images/topic_impt_2_songs.png', dpi=300, transparent=False)"
   ]
  },
  {
   "cell_type": "markdown",
   "metadata": {},
   "source": [
    "## Clustering"
   ]
  },
  {
   "cell_type": "markdown",
   "metadata": {},
   "source": [
    "#### K-Means, k=2, cosine distance"
   ]
  },
  {
   "cell_type": "code",
   "execution_count": 10,
   "metadata": {},
   "outputs": [],
   "source": [
    "n_clust = 2"
   ]
  },
  {
   "cell_type": "code",
   "execution_count": 11,
   "metadata": {},
   "outputs": [],
   "source": [
    "rap_label_pcts = [np.sum(rap_df['Cluster Labels 2 Cosine'] == i)/len(rap_df) for i in range(n_clust)] \n",
    "cnty_label_pcts = [np.sum(cnty_df['Cluster Labels 2 Cosine'] == i)/len(cnty_df) for i in range(n_clust)] "
   ]
  },
  {
   "cell_type": "markdown",
   "metadata": {},
   "source": [
    "Plot by cluster:"
   ]
  },
  {
   "cell_type": "code",
   "execution_count": 12,
   "metadata": {},
   "outputs": [
    {
     "name": "stderr",
     "output_type": "stream",
     "text": [
      "/Users/kendra/anaconda3/lib/python3.6/site-packages/matplotlib/figure.py:2362: UserWarning: This figure includes Axes that are not compatible with tight_layout, so results might be incorrect.\n",
      "  warnings.warn(\"This figure includes Axes that are not compatible \"\n"
     ]
    },
    {
     "data": {
      "image/png": "[encoded data removed]",
      "text/plain": [
       "<Figure size 432x288 with 1 Axes>"
      ]
     },
     "metadata": {
      "needs_background": "light"
     },
     "output_type": "display_data"
    }
   ],
   "source": [
    "plt.bar(range(n_clust), rap_label_pcts, color=tr_color, label='Rap')\n",
    "plt.bar(range(n_clust), cnty_label_pcts, bottom=rap_label_pcts, color=tc_color, label='Country')\n",
    "plt.xlabel('Cluster #')\n",
    "plt.ylabel('Fraction belonging to cluster')\n",
    "plt.xticks(range(n_clust), labels=[f'{i+1}' for i in range(n_clust)])\n",
    "plt.legend();"
   ]
  },
  {
   "cell_type": "markdown",
   "metadata": {},
   "source": [
    "Plot by genre"
   ]
  },
  {
   "cell_type": "code",
   "execution_count": 13,
   "metadata": {},
   "outputs": [
    {
     "name": "stderr",
     "output_type": "stream",
     "text": [
      "/Users/kendra/anaconda3/lib/python3.6/site-packages/matplotlib/figure.py:2362: UserWarning: This figure includes Axes that are not compatible with tight_layout, so results might be incorrect.\n",
      "  warnings.warn(\"This figure includes Axes that are not compatible \"\n"
     ]
    },
    {
     "data": {
      "image/png": "[encoded data removed]",
      "text/plain": [
       "<Figure size 576x360 with 1 Axes>"
      ]
     },
     "metadata": {
      "needs_background": "light"
     },
     "output_type": "display_data"
    }
   ],
   "source": [
    "plt.figure(figsize=(8,5))\n",
    "plt.bar(range(n_clust), [rap_label_pcts[0], cnty_label_pcts[0]], color=clu1_color, label='Cluster 1')\n",
    "plt.bar(range(n_clust), [rap_label_pcts[1], cnty_label_pcts[1]], bottom=[rap_label_pcts[0], cnty_label_pcts[0]], \n",
    "        color=clu2_color, label='Cluster 2')\n",
    "plt.ylabel('Fraction belonging to cluster')\n",
    "plt.xticks(range(n_clust), ['Rap', 'Country'])\n",
    "\n",
    "ax = plt.gca()\n",
    "ax.spines['top'].set_visible(False)\n",
    "ax.spines['right'].set_visible(False)\n",
    "#     ax.spines['bottom'].set_visible(bottom)\n",
    "ax.spines['left'].set_visible(False)\n",
    "\n",
    "plt.tick_params(left=False) #, labelleft=False, bottom=bottom, labelbottom=bottom) #, labelbottom='on')\n",
    "\n",
    "plt.legend(fontsize=16, loc=(1, 0.7), frameon=False);\n",
    "plt.savefig('Images/clusters.png', dpi=300, transparent=False)"
   ]
  },
  {
   "cell_type": "markdown",
   "metadata": {},
   "source": [
    "### Rap songs more similar to country songs"
   ]
  },
  {
   "cell_type": "code",
   "execution_count": 14,
   "metadata": {},
   "outputs": [
    {
     "data": {
      "text/plain": [
       "(85, 0.08341511285574092)"
      ]
     },
     "execution_count": 14,
     "metadata": {},
     "output_type": "execute_result"
    }
   ],
   "source": [
    "rap_artist_val_counts = rap_df['Artist'].value_counts()\n",
    "rap_artists = rap_artist_val_counts.index\n",
    "rap_cnty = rap_df[(rap_df['Cluster Labels 2 Cosine'] == 0) & (rap_df['Median Most Sim'] >= country_idx_start)]\n",
    "\n",
    "len(rap_cnty), len(rap_cnty) / len(rap_df)"
   ]
  },
  {
   "cell_type": "code",
   "execution_count": 15,
   "metadata": {},
   "outputs": [],
   "source": [
    "def number_country_cluster(artist):\n",
    "#     tot_n_songs = artist_val_counts[artist]\n",
    "    n_cnty_songs = len(rap_cnty[rap_cnty['Artist'] == artist])\n",
    "    return n_cnty_songs"
   ]
  },
  {
   "cell_type": "code",
   "execution_count": 16,
   "metadata": {},
   "outputs": [],
   "source": [
    "rap_artist_cnty_nums = []\n",
    "for a in rap_artists:\n",
    "    rap_artist_cnty_nums.append(number_country_cluster(a))"
   ]
  },
  {
   "cell_type": "code",
   "execution_count": 17,
   "metadata": {},
   "outputs": [],
   "source": [
    "test = pd.DataFrame(rap_artist_val_counts)\n",
    "test2 = pd.DataFrame(index = rap_artists, data = rap_artist_cnty_nums)\n",
    "test3 = test.join(test2)\n",
    "test3.columns = ['total # songs', '# country songs']\n",
    "test3['% country songs'] = test3['# country songs'] / test3['total # songs'] * 100\n",
    "test3.sort_values('% country songs', inplace=True, ascending=False)\n",
    "\n",
    "rap_cnty_df = test3[test3['total # songs'] > 3]"
   ]
  },
  {
   "cell_type": "markdown",
   "metadata": {},
   "source": [
    "### \"Rap-rap\" artists/songs\n",
    "Are their song lyrics distinct?"
   ]
  },
  {
   "cell_type": "code",
   "execution_count": 18,
   "metadata": {},
   "outputs": [
    {
     "data": {
      "text/plain": [
       "(757, 0.7428851815505397)"
      ]
     },
     "execution_count": 18,
     "metadata": {},
     "output_type": "execute_result"
    }
   ],
   "source": [
    "rap_rap = rap_df[(rap_df['Cluster Labels 2 Cosine'] == 1) & (rap_df['Median Most Sim'] < country_idx_start)]\n",
    "len(rap_rap), len(rap_rap) / len(rap_df)"
   ]
  },
  {
   "cell_type": "code",
   "execution_count": 19,
   "metadata": {},
   "outputs": [],
   "source": [
    "def number_rap_cluster(artist):\n",
    "#     tot_n_songs = artist_val_counts[artist]\n",
    "    n_rap_songs = len(rap_rap[rap_rap['Artist'] == artist])\n",
    "    return n_rap_songs"
   ]
  },
  {
   "cell_type": "code",
   "execution_count": 20,
   "metadata": {},
   "outputs": [],
   "source": [
    "rap_artist_rap_nums = []\n",
    "for a in rap_artists:\n",
    "    rap_artist_rap_nums.append(number_rap_cluster(a))"
   ]
  },
  {
   "cell_type": "code",
   "execution_count": 21,
   "metadata": {},
   "outputs": [],
   "source": [
    "test = pd.DataFrame(rap_artist_val_counts)\n",
    "test2 = pd.DataFrame(index = rap_artists, data = rap_artist_rap_nums)\n",
    "test3 = test.join(test2)\n",
    "test3.columns = ['total # songs', '# rap songs']\n",
    "test3['% rap songs'] = test3['# rap songs'] / test3['total # songs'] * 100\n",
    "test3.sort_values('% rap songs', inplace=True, ascending=False)\n",
    "\n",
    "rap_rap_df = test3[test3['total # songs'] > 3]"
   ]
  },
  {
   "cell_type": "markdown",
   "metadata": {},
   "source": [
    "### Highest probability topics for \"country-rap\" (rap_cnty) songs"
   ]
  },
  {
   "cell_type": "code",
   "execution_count": 22,
   "metadata": {},
   "outputs": [
    {
     "data": {
      "text/plain": [
       "Genre_Most_Sim  Cluster Labels 2 Cosine\n",
       "country         0                           85\n",
       "                1                            3\n",
       "rap             0                          174\n",
       "                1                          757\n",
       "Name: Song, dtype: int64"
      ]
     },
     "execution_count": 22,
     "metadata": {},
     "output_type": "execute_result"
    }
   ],
   "source": [
    "rap_df.groupby(['Genre_Most_Sim','Cluster Labels 2 Cosine'])['Song'].count()"
   ]
  },
  {
   "cell_type": "code",
   "execution_count": 23,
   "metadata": {},
   "outputs": [],
   "source": [
    "rap_cnty_ldas = [lda_X[i] for i in rap_cnty.index]\n",
    "rap_cnty_lda_df = pd.DataFrame(data=rap_cnty_ldas, index = rap_cnty.index)\n",
    "\n",
    "rap_rap_ldas = [lda_X[i] for i in rap_rap.index]\n",
    "rap_rap_lda_df = pd.DataFrame(data=rap_rap_ldas, index = rap_rap.index)"
   ]
  },
  {
   "cell_type": "code",
   "execution_count": 24,
   "metadata": {},
   "outputs": [],
   "source": [
    "rap_other_idxs = set(rap_df.index).difference(set(list(rap_cnty.index) + list(rap_rap.index)))\n",
    "rap_other_ldas = [lda_X[i] for i in rap_other_idxs]\n",
    "rap_other_lda_df = pd.DataFrame(data=rap_other_ldas, index = rap_other_idxs)"
   ]
  },
  {
   "cell_type": "code",
   "execution_count": 25,
   "metadata": {},
   "outputs": [],
   "source": [
    "rap_cnty_lda_df['cat'] = 'country rap'\n",
    "rap_rap_lda_df['cat'] = 'true rap'\n",
    "rap_other_lda_df['cat'] = 'impure rap'\n",
    "\n",
    "rap_lda_df = pd.concat([rap_rap_lda_df, rap_cnty_lda_df, rap_other_lda_df])"
   ]
  },
  {
   "cell_type": "code",
   "execution_count": 26,
   "metadata": {},
   "outputs": [],
   "source": [
    "cols = list(rap_lda_df.columns)\n",
    "cols.remove('cat')"
   ]
  },
  {
   "cell_type": "code",
   "execution_count": 27,
   "metadata": {},
   "outputs": [],
   "source": [
    "rap_lda_unstacked = [[i, col, rap_lda_df.loc[i, col], rap_lda_df.loc[i, 'cat']] for col in cols for i in rap_lda_df.index]\n",
    "rap_lda_unstacked_df = pd.DataFrame(rap_lda_unstacked, columns = ['song_idx', 'topic', 'topic_impt','cat'])"
   ]
  },
  {
   "cell_type": "code",
   "execution_count": 28,
   "metadata": {},
   "outputs": [],
   "source": [
    "rap_vioin_df1 = rap_lda_unstacked_df[(rap_lda_unstacked_df['cat'] == 'country rap') | (rap_lda_unstacked_df['cat'] == 'true rap')]"
   ]
  },
  {
   "cell_type": "code",
   "execution_count": 29,
   "metadata": {},
   "outputs": [
    {
     "name": "stderr",
     "output_type": "stream",
     "text": [
      "/Users/kendra/anaconda3/lib/python3.6/site-packages/matplotlib/figure.py:2362: UserWarning: This figure includes Axes that are not compatible with tight_layout, so results might be incorrect.\n",
      "  warnings.warn(\"This figure includes Axes that are not compatible \"\n"
     ]
    },
    {
     "data": {
      "image/png": "[encoded data removed]",
      "text/plain": [
       "<Figure size 864x576 with 1 Axes>"
      ]
     },
     "metadata": {
      "needs_background": "light"
     },
     "output_type": "display_data"
    }
   ],
   "source": [
    "fig = plt.figure(figsize=(12,8))\n",
    "\n",
    "sns.violinplot(x=\"topic\", y=\"topic_impt\", hue=\"cat\", data=rap_vioin_df1, \n",
    "               split='True', scale='width',\n",
    "#                pallete={\"left\": 'red', \"right\": 'o'});\n",
    "               palette={\"true rap\": tr_color, \"country rap\": cr_color});"
   ]
  },
  {
   "cell_type": "markdown",
   "metadata": {},
   "source": [
    "### Country songs"
   ]
  },
  {
   "cell_type": "code",
   "execution_count": 30,
   "metadata": {},
   "outputs": [
    {
     "data": {
      "text/plain": [
       "Genre_Most_Sim  Cluster Labels 2 Cosine\n",
       "country         0                          1700\n",
       "                1                             3\n",
       "rap             0                            56\n",
       "                1                            17\n",
       "Name: Song, dtype: int64"
      ]
     },
     "execution_count": 30,
     "metadata": {},
     "output_type": "execute_result"
    }
   ],
   "source": [
    "cnty_df.groupby(['Genre_Most_Sim','Cluster Labels 2 Cosine'])['Song'].count()"
   ]
  },
  {
   "cell_type": "code",
   "execution_count": 31,
   "metadata": {},
   "outputs": [
    {
     "data": {
      "text/plain": [
       "(1700, 0.9572072072072072)"
      ]
     },
     "execution_count": 31,
     "metadata": {},
     "output_type": "execute_result"
    }
   ],
   "source": [
    "cnty_idxs = cnty_df.index\n",
    "cnty_ldas = [lda_X[i] for i in cnty_idxs]\n",
    "cnty_lda_df = pd.DataFrame(data=cnty_ldas, index = cnty_idxs)\n",
    "cnty_cnty = cnty_df[(cnty_df['Cluster Labels 2 Cosine'] == 0) & (cnty_df['Median Most Sim'] >= country_idx_start)]\n",
    "\n",
    "len(cnty_cnty), len(cnty_cnty) / len(cnty_df)"
   ]
  },
  {
   "cell_type": "code",
   "execution_count": 32,
   "metadata": {},
   "outputs": [],
   "source": [
    "cnty_cnty_ldas = [lda_X[i] for i in cnty_cnty.index]\n",
    "cnty_cnty_lda_df = pd.DataFrame(data=cnty_cnty_ldas, index = cnty_cnty.index)\n",
    "cnty_cnty_lda_df['cat'] = 'true country'"
   ]
  },
  {
   "cell_type": "code",
   "execution_count": 33,
   "metadata": {},
   "outputs": [],
   "source": [
    "cnty_lda_unstacked = [[i, col, cnty_cnty_lda_df.loc[i, col], \n",
    "                       cnty_cnty_lda_df.loc[i, 'cat']] for col in cols for i in cnty_cnty_lda_df.index]\n",
    "cnty_lda_unstacked_df = pd.DataFrame(cnty_lda_unstacked, columns = ['song_idx', 'topic', 'topic_impt','cat'])"
   ]
  },
  {
   "cell_type": "code",
   "execution_count": 34,
   "metadata": {},
   "outputs": [],
   "source": [
    "holder = pd.concat([rap_cnty_lda_df, cnty_cnty_lda_df])\n",
    "unstacked = [[i, col, holder.loc[i, col], holder.loc[i, 'cat']] for col in cols for i in holder.index]\n",
    "combo_lda_df1 = pd.DataFrame(unstacked, columns = ['song_idx', 'topic', 'topic_impt','cat'])"
   ]
  },
  {
   "cell_type": "code",
   "execution_count": 35,
   "metadata": {},
   "outputs": [],
   "source": [
    "holder = pd.concat([rap_rap_lda_df, cnty_cnty_lda_df])\n",
    "unstacked = [[i, col, holder.loc[i, col], holder.loc[i, 'cat']] for col in cols for i in holder.index]\n",
    "combo_lda_df2 = pd.DataFrame(unstacked, columns = ['song_idx', 'topic', 'topic_impt','cat'])"
   ]
  },
  {
   "cell_type": "code",
   "execution_count": 36,
   "metadata": {},
   "outputs": [],
   "source": [
    "all_rap_lda_unstacked_df = rap_lda_unstacked_df.copy()\n",
    "all_rap_lda_unstacked_df['cat'] = 'rap'\n",
    "all_cnty_lda_unstacked_df = cnty_lda_unstacked_df.copy()\n",
    "all_cnty_lda_unstacked_df['cat'] = 'country'\n",
    "all_lda_unstacked_df = pd.concat([all_rap_lda_unstacked_df, all_cnty_lda_unstacked_df])"
   ]
  },
  {
   "cell_type": "code",
   "execution_count": 37,
   "metadata": {},
   "outputs": [],
   "source": [
    "ts = np.arange(9)"
   ]
  },
  {
   "cell_type": "code",
   "execution_count": 38,
   "metadata": {},
   "outputs": [
    {
     "name": "stderr",
     "output_type": "stream",
     "text": [
      "/Users/kendra/anaconda3/lib/python3.6/site-packages/matplotlib/figure.py:2362: UserWarning: This figure includes Axes that are not compatible with tight_layout, so results might be incorrect.\n",
      "  warnings.warn(\"This figure includes Axes that are not compatible \"\n"
     ]
    },
    {
     "data": {
      "image/png": "[encoded data removed]",
      "text/plain": [
       "<Figure size 864x576 with 1 Axes>"
      ]
     },
     "metadata": {
      "needs_background": "light"
     },
     "output_type": "display_data"
    }
   ],
   "source": [
    "fig = plt.figure(figsize=(12,8))\n",
    "\n",
    "sns.violinplot(x=\"topic\", y=\"topic_impt\", hue=\"cat\", data=all_lda_unstacked_df, \n",
    "               split='True', scale='width', cut=0,\n",
    "               palette={\"rap\": tr_color, \"country\": tc_color});\n",
    "# plt.title('Topic imporance by Genre')\n",
    "# plt.ylabel('Topic Importance', fontsize=14)\n",
    "ax = plt.gca()\n",
    "ax.spines['top'].set_visible(False)\n",
    "ax.spines['right'].set_visible(False)\n",
    "ax.spines['bottom'].set_visible(False)\n",
    "ax.spines['left'].set_visible(False)\n",
    "\n",
    "plt.tick_params(bottom=False, left=False )#, labelleft='off', labelbottom='on')\n",
    "plt.xticks(ts, [f'{i+1}' for i in ts], fontsize=18)\n",
    "plt.xlabel('Topic', fontsize=18)\n",
    "\n",
    "ax.set_ylabel('Topic Imporance', rotation=0, fontsize=18)\n",
    "ax.yaxis.set_label_coords(0.05,1.0)\n",
    "# plt.yticks([0,1],['0.0','1.0'], fontsize=18);\n",
    "plt.yticks(fontsize=18);\n",
    "\n",
    "\n",
    "handles, labels = ax.get_legend_handles_labels()\n",
    "plt.legend(handles, ['Rap','Country'], fontsize=16, frameon=False, loc=(0.87, 0.85)); \n",
    "plt.savefig('Images/Topic_Importance_by_Genre.png', dpi=300, transparent=False)"
   ]
  },
  {
   "cell_type": "code",
   "execution_count": 39,
   "metadata": {},
   "outputs": [],
   "source": [
    "unstacked_df = pd.concat([rap_lda_unstacked_df, cnty_lda_unstacked_df])"
   ]
  },
  {
   "cell_type": "code",
   "execution_count": 40,
   "metadata": {},
   "outputs": [],
   "source": [
    "df_topic2 = unstacked_df[unstacked_df['topic'] == 1];\n",
    "df_topic1 = unstacked_df[unstacked_df['topic'] == 0];"
   ]
  },
  {
   "cell_type": "code",
   "execution_count": 41,
   "metadata": {},
   "outputs": [
    {
     "name": "stderr",
     "output_type": "stream",
     "text": [
      "/Users/kendra/anaconda3/lib/python3.6/site-packages/matplotlib/figure.py:2362: UserWarning: This figure includes Axes that are not compatible with tight_layout, so results might be incorrect.\n",
      "  warnings.warn(\"This figure includes Axes that are not compatible \"\n"
     ]
    },
    {
     "data": {
      "image/png": "[encoded data removed]",
      "text/plain": [
       "<Figure size 576x432 with 1 Axes>"
      ]
     },
     "metadata": {
      "needs_background": "light"
     },
     "output_type": "display_data"
    }
   ],
   "source": [
    "temp_rap_unstacked_df = rap_lda_unstacked_df.copy()\n",
    "temp_rap_unstacked_df['cat'] = 'rap'\n",
    "temp_unstacked_df = pd.concat([temp_rap_unstacked_df, cnty_lda_unstacked_df])\n",
    "df_topic2 = temp_unstacked_df[temp_unstacked_df['topic'] == 1];\n",
    "df_topic1 = temp_unstacked_df[temp_unstacked_df['topic'] == 0];\n",
    "df_topic = pd.concat([df_topic1, df_topic2])\n",
    "\n",
    "plt.figure(figsize=(8,6)), #gridspec_kw = {'width_ratios':[1,0.2,1]})\n",
    "\n",
    "sns.violinplot(x=\"topic\", y=\"topic_impt\", data=df_topic, scale='count', cut=0, hue=\"cat\", palette=\"BrBG_r\", \n",
    "               split=True)\n",
    "plt.xticks([0,1], ['Topic 1','Topic 2'], fontsize=16)\n",
    "plt.xlabel('')\n",
    "plt.ylabel('Topic Importance', fontsize=18)\n",
    "\n",
    "ax = plt.gca()\n",
    "u.hide_axes(ax, False, False, False, False)\n",
    "plt.tick_params(bottom=False, left=False) , #labelleft=False)\n",
    "\n",
    "ax.set_ylabel('Importance', rotation=0, fontsize=18)\n",
    "ax.yaxis.set_label_coords(-0.05,1.0)\n",
    "\n",
    "handles, labels = ax.get_legend_handles_labels()\n",
    "plt.legend(handles, ['Rap','Country'], fontsize=16, frameon=False, loc=(0.87, 0.85)); #bbox_to_anchor=(0.5, 0., 0.5, 0.5));\n",
    "plt.savefig('Images/Topic_Importance_by_Genre_split_violin_2.png', dpi=300, transparent=False);\n"
   ]
  },
  {
   "cell_type": "code",
   "execution_count": 48,
   "metadata": {},
   "outputs": [
    {
     "data": {
      "text/html": [
       "<div>\n",
       "<style scoped>\n",
       "    .dataframe tbody tr th:only-of-type {\n",
       "        vertical-align: middle;\n",
       "    }\n",
       "\n",
       "    .dataframe tbody tr th {\n",
       "        vertical-align: top;\n",
       "    }\n",
       "\n",
       "    .dataframe thead th {\n",
       "        text-align: right;\n",
       "    }\n",
       "</style>\n",
       "<table border=\"1\" class=\"dataframe\">\n",
       "  <thead>\n",
       "    <tr style=\"text-align: right;\">\n",
       "      <th></th>\n",
       "      <th>0</th>\n",
       "      <th>1</th>\n",
       "      <th>2</th>\n",
       "      <th>3</th>\n",
       "      <th>4</th>\n",
       "      <th>5</th>\n",
       "      <th>6</th>\n",
       "      <th>7</th>\n",
       "      <th>8</th>\n",
       "      <th>cat</th>\n",
       "      <th>Log_Diff</th>\n",
       "    </tr>\n",
       "  </thead>\n",
       "  <tbody>\n",
       "    <tr>\n",
       "      <th>1019</th>\n",
       "      <td>0.893605</td>\n",
       "      <td>0.000518</td>\n",
       "      <td>0.000518</td>\n",
       "      <td>0.102767</td>\n",
       "      <td>0.000518</td>\n",
       "      <td>0.000518</td>\n",
       "      <td>0.000518</td>\n",
       "      <td>0.000518</td>\n",
       "      <td>0.000518</td>\n",
       "      <td>country</td>\n",
       "      <td>-7.452265</td>\n",
       "    </tr>\n",
       "    <tr>\n",
       "      <th>1020</th>\n",
       "      <td>0.664670</td>\n",
       "      <td>0.000300</td>\n",
       "      <td>0.000300</td>\n",
       "      <td>0.333227</td>\n",
       "      <td>0.000300</td>\n",
       "      <td>0.000300</td>\n",
       "      <td>0.000300</td>\n",
       "      <td>0.000300</td>\n",
       "      <td>0.000300</td>\n",
       "      <td>country</td>\n",
       "      <td>-7.701963</td>\n",
       "    </tr>\n",
       "    <tr>\n",
       "      <th>1021</th>\n",
       "      <td>0.922114</td>\n",
       "      <td>0.000341</td>\n",
       "      <td>0.000341</td>\n",
       "      <td>0.000341</td>\n",
       "      <td>0.000341</td>\n",
       "      <td>0.000341</td>\n",
       "      <td>0.000341</td>\n",
       "      <td>0.075496</td>\n",
       "      <td>0.000341</td>\n",
       "      <td>country</td>\n",
       "      <td>-7.901330</td>\n",
       "    </tr>\n",
       "    <tr>\n",
       "      <th>1022</th>\n",
       "      <td>0.785377</td>\n",
       "      <td>0.000267</td>\n",
       "      <td>0.000267</td>\n",
       "      <td>0.000267</td>\n",
       "      <td>0.187150</td>\n",
       "      <td>0.000267</td>\n",
       "      <td>0.025872</td>\n",
       "      <td>0.000267</td>\n",
       "      <td>0.000267</td>\n",
       "      <td>country</td>\n",
       "      <td>-7.987654</td>\n",
       "    </tr>\n",
       "    <tr>\n",
       "      <th>1023</th>\n",
       "      <td>0.657257</td>\n",
       "      <td>0.000241</td>\n",
       "      <td>0.000241</td>\n",
       "      <td>0.341056</td>\n",
       "      <td>0.000241</td>\n",
       "      <td>0.000241</td>\n",
       "      <td>0.000241</td>\n",
       "      <td>0.000241</td>\n",
       "      <td>0.000241</td>\n",
       "      <td>country</td>\n",
       "      <td>-7.910942</td>\n",
       "    </tr>\n",
       "  </tbody>\n",
       "</table>\n",
       "</div>"
      ],
      "text/plain": [
       "             0         1         2         3         4         5         6  \\\n",
       "1019  0.893605  0.000518  0.000518  0.102767  0.000518  0.000518  0.000518   \n",
       "1020  0.664670  0.000300  0.000300  0.333227  0.000300  0.000300  0.000300   \n",
       "1021  0.922114  0.000341  0.000341  0.000341  0.000341  0.000341  0.000341   \n",
       "1022  0.785377  0.000267  0.000267  0.000267  0.187150  0.000267  0.025872   \n",
       "1023  0.657257  0.000241  0.000241  0.341056  0.000241  0.000241  0.000241   \n",
       "\n",
       "             7         8      cat  Log_Diff  \n",
       "1019  0.000518  0.000518  country -7.452265  \n",
       "1020  0.000300  0.000300  country -7.701963  \n",
       "1021  0.075496  0.000341  country -7.901330  \n",
       "1022  0.000267  0.000267  country -7.987654  \n",
       "1023  0.000241  0.000241  country -7.910942  "
      ]
     },
     "execution_count": 48,
     "metadata": {},
     "output_type": "execute_result"
    }
   ],
   "source": [
    "cnty_lda_df.head()"
   ]
  },
  {
   "cell_type": "code",
   "execution_count": 49,
   "metadata": {},
   "outputs": [
    {
     "data": {
      "text/html": [
       "<div>\n",
       "<style scoped>\n",
       "    .dataframe tbody tr th:only-of-type {\n",
       "        vertical-align: middle;\n",
       "    }\n",
       "\n",
       "    .dataframe tbody tr th {\n",
       "        vertical-align: top;\n",
       "    }\n",
       "\n",
       "    .dataframe thead th {\n",
       "        text-align: right;\n",
       "    }\n",
       "</style>\n",
       "<table border=\"1\" class=\"dataframe\">\n",
       "  <thead>\n",
       "    <tr style=\"text-align: right;\">\n",
       "      <th></th>\n",
       "      <th>0</th>\n",
       "      <th>1</th>\n",
       "      <th>2</th>\n",
       "      <th>3</th>\n",
       "      <th>4</th>\n",
       "      <th>5</th>\n",
       "      <th>6</th>\n",
       "      <th>7</th>\n",
       "      <th>8</th>\n",
       "      <th>cat</th>\n",
       "    </tr>\n",
       "  </thead>\n",
       "  <tbody>\n",
       "    <tr>\n",
       "      <th>1</th>\n",
       "      <td>0.364859</td>\n",
       "      <td>0.540790</td>\n",
       "      <td>0.093289</td>\n",
       "      <td>0.000177</td>\n",
       "      <td>0.000177</td>\n",
       "      <td>0.000177</td>\n",
       "      <td>0.000177</td>\n",
       "      <td>0.000177</td>\n",
       "      <td>0.000177</td>\n",
       "      <td>true rap</td>\n",
       "    </tr>\n",
       "    <tr>\n",
       "      <th>2</th>\n",
       "      <td>0.000145</td>\n",
       "      <td>0.290068</td>\n",
       "      <td>0.000145</td>\n",
       "      <td>0.000145</td>\n",
       "      <td>0.000145</td>\n",
       "      <td>0.708916</td>\n",
       "      <td>0.000145</td>\n",
       "      <td>0.000145</td>\n",
       "      <td>0.000145</td>\n",
       "      <td>true rap</td>\n",
       "    </tr>\n",
       "    <tr>\n",
       "      <th>3</th>\n",
       "      <td>0.241935</td>\n",
       "      <td>0.236241</td>\n",
       "      <td>0.000161</td>\n",
       "      <td>0.000161</td>\n",
       "      <td>0.000161</td>\n",
       "      <td>0.520857</td>\n",
       "      <td>0.000161</td>\n",
       "      <td>0.000161</td>\n",
       "      <td>0.000161</td>\n",
       "      <td>true rap</td>\n",
       "    </tr>\n",
       "    <tr>\n",
       "      <th>4</th>\n",
       "      <td>0.000341</td>\n",
       "      <td>0.596950</td>\n",
       "      <td>0.000341</td>\n",
       "      <td>0.000341</td>\n",
       "      <td>0.000341</td>\n",
       "      <td>0.400660</td>\n",
       "      <td>0.000341</td>\n",
       "      <td>0.000341</td>\n",
       "      <td>0.000341</td>\n",
       "      <td>true rap</td>\n",
       "    </tr>\n",
       "    <tr>\n",
       "      <th>5</th>\n",
       "      <td>0.027412</td>\n",
       "      <td>0.918515</td>\n",
       "      <td>0.000149</td>\n",
       "      <td>0.000149</td>\n",
       "      <td>0.000149</td>\n",
       "      <td>0.000149</td>\n",
       "      <td>0.053176</td>\n",
       "      <td>0.000149</td>\n",
       "      <td>0.000149</td>\n",
       "      <td>true rap</td>\n",
       "    </tr>\n",
       "  </tbody>\n",
       "</table>\n",
       "</div>"
      ],
      "text/plain": [
       "          0         1         2         3         4         5         6  \\\n",
       "1  0.364859  0.540790  0.093289  0.000177  0.000177  0.000177  0.000177   \n",
       "2  0.000145  0.290068  0.000145  0.000145  0.000145  0.708916  0.000145   \n",
       "3  0.241935  0.236241  0.000161  0.000161  0.000161  0.520857  0.000161   \n",
       "4  0.000341  0.596950  0.000341  0.000341  0.000341  0.400660  0.000341   \n",
       "5  0.027412  0.918515  0.000149  0.000149  0.000149  0.000149  0.053176   \n",
       "\n",
       "          7         8       cat  \n",
       "1  0.000177  0.000177  true rap  \n",
       "2  0.000145  0.000145  true rap  \n",
       "3  0.000161  0.000161  true rap  \n",
       "4  0.000341  0.000341  true rap  \n",
       "5  0.000149  0.000149  true rap  "
      ]
     },
     "execution_count": 49,
     "metadata": {},
     "output_type": "execute_result"
    }
   ],
   "source": [
    "rap_lda_df.head()"
   ]
  },
  {
   "cell_type": "code",
   "execution_count": 50,
   "metadata": {},
   "outputs": [],
   "source": [
    "# rap_combo = combo_lda_df[(combo_lda_df['cat'] == 'true rap') | (combo_lda_df['cat'] == 'country rap')]\n",
    "rap_combo = rap_lda_df.copy()\n",
    "rap_combo['cat'] = 'rap'\n",
    "rap_combo['Log_Diff'] = np.log(rap_combo[1]) - np.log(rap_combo[0])\n",
    "cnty_lda_df['cat'] = 'country'\n",
    "cnty_lda_df['Log_Diff'] = np.log(cnty_lda_df[1]) - np.log(cnty_lda_df[0])"
   ]
  },
  {
   "cell_type": "code",
   "execution_count": 59,
   "metadata": {},
   "outputs": [
    {
     "name": "stderr",
     "output_type": "stream",
     "text": [
      "/Users/kendra/anaconda3/lib/python3.6/site-packages/matplotlib/figure.py:2362: UserWarning: This figure includes Axes that are not compatible with tight_layout, so results might be incorrect.\n",
      "  warnings.warn(\"This figure includes Axes that are not compatible \"\n"
     ]
    },
    {
     "data": {
      "image/png": "[encoded data removed]",
      "text/plain": [
       "<Figure size 576x360 with 1 Axes>"
      ]
     },
     "metadata": {
      "needs_background": "light"
     },
     "output_type": "display_data"
    }
   ],
   "source": [
    "# fig, ax = plt.subplots(3, 1, sharex=True, sharey=True, figsize=(8,9))\n",
    "plt.figure(figsize=(8,5))\n",
    "\n",
    "sns.kdeplot(rap_combo['Log_Diff'], label='rap', color=tr_color, shade=True);\n",
    "sns.kdeplot(cnty_lda_df['Log_Diff'], label='country', color=tc_color,  shade=True);\n",
    "\n",
    "ax = plt.gca()\n",
    "ax.spines['top'].set_visible(False)\n",
    "ax.spines['right'].set_visible(False)\n",
    "# ax.spines['left'].set_visible(False)\n",
    "# ax.spines['bottom'].set_visible(False)\n",
    "ax.legend().set_visible(False)\n",
    "\n",
    "plt.tick_params(left=False, bottom=False)\n",
    "\n",
    "plt.xlabel(\"Gangsta Score\", fontsize=16)\n",
    "plt.ylabel(\"Fraction songs\", fontsize=16)\n",
    "\n",
    "# plt.yticks(np.arange(0,10),)\n",
    "plt.text(x=4.5, y=0.1, s=\"Rap\", color=tr_color, fontsize=16)\n",
    "plt.text(x=-7, y=0.5, s=\"Country\", color=tc_color, fontsize=16)\n",
    "\n",
    "plt.savefig('Images/score_hist_overlay_2cat.png', dpi=300, transparent=False)\n"
   ]
  },
  {
   "cell_type": "code",
   "execution_count": 52,
   "metadata": {},
   "outputs": [
    {
     "data": {
      "text/html": [
       "<div>\n",
       "<style scoped>\n",
       "    .dataframe tbody tr th:only-of-type {\n",
       "        vertical-align: middle;\n",
       "    }\n",
       "\n",
       "    .dataframe tbody tr th {\n",
       "        vertical-align: top;\n",
       "    }\n",
       "\n",
       "    .dataframe thead th {\n",
       "        text-align: right;\n",
       "    }\n",
       "</style>\n",
       "<table border=\"1\" class=\"dataframe\">\n",
       "  <thead>\n",
       "    <tr style=\"text-align: right;\">\n",
       "      <th></th>\n",
       "      <th>min</th>\n",
       "      <th>max</th>\n",
       "      <th>mean</th>\n",
       "      <th>std</th>\n",
       "    </tr>\n",
       "    <tr>\n",
       "      <th>cat</th>\n",
       "      <th></th>\n",
       "      <th></th>\n",
       "      <th></th>\n",
       "      <th></th>\n",
       "    </tr>\n",
       "  </thead>\n",
       "  <tbody>\n",
       "    <tr>\n",
       "      <th>country rap</th>\n",
       "      <td>-8.788898</td>\n",
       "      <td>-0.435287</td>\n",
       "      <td>-3.969639</td>\n",
       "      <td>2.982807</td>\n",
       "    </tr>\n",
       "    <tr>\n",
       "      <th>true country</th>\n",
       "      <td>-8.895361</td>\n",
       "      <td>-0.241945</td>\n",
       "      <td>-6.782238</td>\n",
       "      <td>2.157996</td>\n",
       "    </tr>\n",
       "    <tr>\n",
       "      <th>true rap</th>\n",
       "      <td>-6.402002</td>\n",
       "      <td>9.584596</td>\n",
       "      <td>3.130577</td>\n",
       "      <td>3.306130</td>\n",
       "    </tr>\n",
       "  </tbody>\n",
       "</table>\n",
       "</div>"
      ],
      "text/plain": [
       "                   min       max      mean       std\n",
       "cat                                                 \n",
       "country rap  -8.788898 -0.435287 -3.969639  2.982807\n",
       "true country -8.895361 -0.241945 -6.782238  2.157996\n",
       "true rap     -6.402002  9.584596  3.130577  3.306130"
      ]
     },
     "execution_count": 52,
     "metadata": {},
     "output_type": "execute_result"
    }
   ],
   "source": [
    "combo_lda_df = pd.concat([rap_rap_lda_df, rap_cnty_lda_df, cnty_cnty_lda_df])\n",
    "combo_lda_df['Log_Diff'] = np.log(combo_lda_df[1]) - np.log(combo_lda_df[0])\n",
    "combo_lda_df.groupby('cat')['Log_Diff'].aggregate(['min','max','mean', 'std'])"
   ]
  },
  {
   "cell_type": "code",
   "execution_count": 58,
   "metadata": {},
   "outputs": [
    {
     "name": "stderr",
     "output_type": "stream",
     "text": [
      "/Users/kendra/anaconda3/lib/python3.6/site-packages/matplotlib/figure.py:2362: UserWarning: This figure includes Axes that are not compatible with tight_layout, so results might be incorrect.\n",
      "  warnings.warn(\"This figure includes Axes that are not compatible \"\n"
     ]
    },
    {
     "data": {
      "image/png": "[encoded data removed]",
      "text/plain": [
       "<Figure size 576x360 with 1 Axes>"
      ]
     },
     "metadata": {
      "needs_background": "light"
     },
     "output_type": "display_data"
    }
   ],
   "source": [
    "# fig, ax = plt.subplots(3, 1, sharex=True, sharey=True, figsize=(8,9))\n",
    "plt.figure(figsize=(8,5))\n",
    "\n",
    "bins = np.arange(-10,10)\n",
    "\n",
    "# plt.subplot(3,1,1)\n",
    "sns.kdeplot(combo_lda_df[combo_lda_df['cat'] == 'true rap']['Log_Diff'], label='true rap', color=tr_color,\n",
    "         shade=True);\n",
    "\n",
    "# plt.subplot(3,1,2)\n",
    "sns.kdeplot(combo_lda_df[combo_lda_df['cat'] == 'country rap']['Log_Diff'], label='country rap', \n",
    "         color=cr_color,  shade=True);\n",
    "\n",
    "# plt.subplot(3,1,3)\n",
    "sns.kdeplot(combo_lda_df[combo_lda_df['cat'] == 'true country']['Log_Diff'], label='true country', \n",
    "         color=tc_color,  shade=True);\n",
    "\n",
    "\n",
    "ax = plt.gca()\n",
    "ax.spines['top'].set_visible(False)\n",
    "ax.spines['right'].set_visible(False)\n",
    "ax.legend().set_visible(False)\n",
    "plt.tick_params(left=False, bottom=False)\n",
    "# plt.legend(loc=0, fontsize=14,frameon=False);\n",
    "# ax = plt.gca()\n",
    "# u.hide_axes(ax, False, False, True, False)\n",
    "plt.xlabel(\"Gangsta Score\", fontsize=16)\n",
    "plt.ylabel(\"Fraction songs\", fontsize=16)\n",
    "\n",
    "# plt.yticks(np.arange(0,10),)\n",
    "plt.text(x=4.5, y=0.1, s=\"Rap\", color=tr_color, fontsize=16)\n",
    "plt.text(x=-7, y=0.5, s=\"Country\", color=tc_color, fontsize=16)\n",
    "plt.text(x=-5.5, y=0.23, s=\"Country-Rap\", color=cr_color, fontsize=16)\n",
    "\n",
    "\n",
    "plt.savefig('Images/score_hist_overlay_3cat.png', dpi=300, transparent=False)\n"
   ]
  },
  {
   "cell_type": "code",
   "execution_count": 51,
   "metadata": {},
   "outputs": [
    {
     "name": "stderr",
     "output_type": "stream",
     "text": [
      "/Users/kendra/anaconda3/lib/python3.6/site-packages/matplotlib/figure.py:2362: UserWarning: This figure includes Axes that are not compatible with tight_layout, so results might be incorrect.\n",
      "  warnings.warn(\"This figure includes Axes that are not compatible \"\n"
     ]
    },
    {
     "data": {
      "image/png": "[encoded data removed]",
      "text/plain": [
       "<Figure size 576x360 with 1 Axes>"
      ]
     },
     "metadata": {
      "needs_background": "light"
     },
     "output_type": "display_data"
    }
   ],
   "source": [
    "# fig, ax = plt.subplots(3, 1, sharex=True, sharey=True, figsize=(8,9))\n",
    "plt.figure(figsize=(8,5))\n",
    "\n",
    "sns.kdeplot(rap_combo['Log_Diff'], label='rap', color=tr_color, shade=True);\n",
    "sns.kdeplot(cnty_lda_df['Log_Diff'], label='country', color=tc_color,  shade=True);\n",
    "\n",
    "ax = plt.gca()\n",
    "ax.spines['top'].set_visible(False)\n",
    "ax.spines['right'].set_visible(False)\n",
    "# ax.spines['left'].set_visible(False)\n",
    "# ax.spines['bottom'].set_visible(False)\n",
    "ax.legend().set_visible(False)\n",
    "\n",
    "plt.tick_params(left=False, bottom=False)\n",
    "\n",
    "plt.xlabel(\"Gangsta Score\", fontsize=16)\n",
    "plt.ylabel(\"Fraction songs\", fontsize=16)\n",
    "\n",
    "# plt.yticks(np.arange(0,10),)\n",
    "plt.text(x=4.5, y=0.1, s=\"Rap\", color=tr_color, fontsize=16)\n",
    "plt.text(x=-6, y=0.3, s=\"Country\", color=tc_color, fontsize=16)\n",
    "\n",
    "plt.savefig('Images/score_hist_overlay_2cat.png', dpi=300, transparent=False)\n"
   ]
  },
  {
   "cell_type": "markdown",
   "metadata": {},
   "source": [
    "## Average 'Gangsta' score by artist"
   ]
  },
  {
   "cell_type": "code",
   "execution_count": null,
   "metadata": {},
   "outputs": [],
   "source": [
    "df['Gangsta Score'] = u.gangsta_score(df.index, lda_X)"
   ]
  },
  {
   "cell_type": "code",
   "execution_count": null,
   "metadata": {},
   "outputs": [],
   "source": [
    "artist_scores = pd.DataFrame(df.groupby('Artist')['Gangsta Score', 'Song']\n",
    "                             .aggregate({'Gangsta Score': 'mean', 'Song': 'count'}))\n",
    "artist_scores['Genre'] = ['rap' if x in rap_df['Artist'].values else 'country' for x in artist_scores.index]"
   ]
  },
  {
   "cell_type": "code",
   "execution_count": null,
   "metadata": {},
   "outputs": [],
   "source": [
    "full_artist_scores = artist_scores.copy()"
   ]
  },
  {
   "cell_type": "code",
   "execution_count": null,
   "metadata": {},
   "outputs": [],
   "source": [
    "artist_scores = artist_scores[artist_scores['Song'] > 2]"
   ]
  },
  {
   "cell_type": "code",
   "execution_count": null,
   "metadata": {},
   "outputs": [],
   "source": [
    "most_gangsta = artist_scores[artist_scores['Genre'] == 'rap'].sort_values('Gangsta Score')\n",
    "most_country = artist_scores[artist_scores['Genre'] == 'country'].sort_values('Gangsta Score', ascending=False)\n",
    "least_gangsta = artist_scores[artist_scores['Genre'] == 'rap'].sort_values('Gangsta Score', ascending=False)\n",
    "least_country = artist_scores[artist_scores['Genre'] == 'country'].sort_values('Gangsta Score')"
   ]
  },
  {
   "cell_type": "code",
   "execution_count": null,
   "metadata": {},
   "outputs": [],
   "source": [
    "least_country.head(10)"
   ]
  },
  {
   "cell_type": "code",
   "execution_count": null,
   "metadata": {},
   "outputs": [],
   "source": [
    "u.random_example_score(-5, artist_scores)"
   ]
  },
  {
   "cell_type": "code",
   "execution_count": null,
   "metadata": {},
   "outputs": [],
   "source": [
    "artist_scores.to_csv('Data/artist_scores.csv')"
   ]
  }
 ],
 "metadata": {
  "kernelspec": {
   "display_name": "Python 3",
   "language": "python",
   "name": "python3"
  },
  "language_info": {
   "codemirror_mode": {
    "name": "ipython",
    "version": 3
   },
   "file_extension": ".py",
   "mimetype": "text/x-python",
   "name": "python",
   "nbconvert_exporter": "python",
   "pygments_lexer": "ipython3",
   "version": "3.6.6"
  }
 },
 "nbformat": 4,
 "nbformat_minor": 2
}
