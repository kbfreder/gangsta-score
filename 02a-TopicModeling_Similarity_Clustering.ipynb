{
 "cells": [
  {
   "cell_type": "code",
   "execution_count": 1,
   "metadata": {},
   "outputs": [],
   "source": [
    "import warnings\n",
    "warnings.filterwarnings(action='ignore', category=FutureWarning)\n",
    "warnings.filterwarnings(action='ignore', category=DeprecationWarning)\n",
    "\n",
    "import pandas as pd\n",
    "import numpy as np\n",
    "# import re\n",
    "import matplotlib.pyplot as plt\n",
    "\n",
    "from sklearn.feature_extraction.text import CountVectorizer\n",
    "from sklearn.feature_extraction.text import TfidfVectorizer \n",
    "from sklearn.decomposition import NMF, LatentDirichletAllocation\n",
    "\n",
    "\n",
    "from sklearn.cluster import KMeans # try other clusering algorithms\n",
    "\n",
    "import util as u\n",
    "import text_processing as tp\n",
    "%load_ext autoreload\n",
    "%autoreload 2\n",
    "\n",
    "import pyLDAvis\n",
    "import pyLDAvis.sklearn\n",
    "pyLDAvis.enable_notebook()\n",
    "\n",
    "from sklearn.metrics.pairwise import cosine_similarity\n",
    "\n",
    "from sklearn.cluster import KMeans"
   ]
  },
  {
   "cell_type": "code",
   "execution_count": null,
   "metadata": {},
   "outputs": [],
   "source": [
    "# from nltk.cluster.kmeans import KMeansClusterer\n",
    "# from nltk.cluster.util import cosine_distance"
   ]
  },
  {
   "cell_type": "markdown",
   "metadata": {},
   "source": [
    "### Load data"
   ]
  },
  {
   "cell_type": "code",
   "execution_count": 2,
   "metadata": {},
   "outputs": [],
   "source": [
    "df = u.open_pkl('Data/all_lyrics_df_181109.pkl')"
   ]
  },
  {
   "cell_type": "code",
   "execution_count": 3,
   "metadata": {},
   "outputs": [],
   "source": [
    "country_idx_start = np.min(list(df[df['Genre'] == 'country'].index))"
   ]
  },
  {
   "cell_type": "code",
   "execution_count": 4,
   "metadata": {},
   "outputs": [],
   "source": [
    "X = df[['Lyrics']].values\n",
    "X = X.tolist()\n",
    "X = [x[0] for x in X]"
   ]
  },
  {
   "cell_type": "markdown",
   "metadata": {},
   "source": [
    "## CountVectorizer"
   ]
  },
  {
   "cell_type": "code",
   "execution_count": 5,
   "metadata": {},
   "outputs": [
    {
     "data": {
      "text/plain": [
       "44962"
      ]
     },
     "execution_count": 5,
     "metadata": {},
     "output_type": "execute_result"
    }
   ],
   "source": [
    "cv_vect = CountVectorizer(preprocessor=tp.my_preprocessor, stop_words = tp.stop_words(), \n",
    "#                              tokenizer=tp.porter_tokenizer,\n",
    "                             ngram_range=(1,2), encoding = 'ISO-8859-1', \n",
    "                             strip_accents='ascii', min_df = 2, max_df=0.5)\n",
    "\n",
    "transX = cv_vect.fit_transform(X) # dtm, or document-term matrix\n",
    "\n",
    "features = cv_vect.get_feature_names()\n",
    "len(features)"
   ]
  },
  {
   "cell_type": "code",
   "execution_count": 6,
   "metadata": {},
   "outputs": [],
   "source": [
    "cv_vocab = cv_vect.vocabulary_\n",
    "\n",
    "tf_df = pd.DataFrame(transX.toarray(), columns=cv_vect.get_feature_names())\n",
    "\n",
    "word_frequs = np.sum(tf_df)\n",
    "# word_frequs.sort_values(ascending=False)[:20]"
   ]
  },
  {
   "cell_type": "code",
   "execution_count": 14,
   "metadata": {},
   "outputs": [],
   "source": [
    "# un-false-ify to save \n",
    "if 1 == 0:\n",
    "    u.pkl_this('Data/dtm_tf_df.pkl', tf_df)\n",
    "    u.pkl_this('Data/word_frequ.pkl', word_frequs)\n",
    "    u.pkl_this('Data/cv_vocab.pkl', cv_vocab)\n",
    "    u.pkl_this('Data/dtm_tf.pkl', transX)"
   ]
  },
  {
   "cell_type": "markdown",
   "metadata": {},
   "source": [
    "## LDA"
   ]
  },
  {
   "cell_type": "code",
   "execution_count": 7,
   "metadata": {},
   "outputs": [
    {
     "data": {
      "text/plain": [
       "LatentDirichletAllocation(batch_size=128, doc_topic_prior=0.05,\n",
       "             evaluate_every=-1, learning_decay=0.7,\n",
       "             learning_method='online', learning_offset=10.0,\n",
       "             max_doc_update_iter=100, max_iter=10, mean_change_tol=0.001,\n",
       "             n_components=9, n_jobs=None, n_topics=None, perp_tol=0.1,\n",
       "             random_state=12, topic_word_prior=None,\n",
       "             total_samples=1000000.0, verbose=0)"
      ]
     },
     "execution_count": 7,
     "metadata": {},
     "output_type": "execute_result"
    }
   ],
   "source": [
    "# previously determined 9 to be optimal number of topics by visual inspection of topic words & separation on pyLDA viz\n",
    "n = 9\n",
    "lda = LatentDirichletAllocation(n_components=n, max_iter=10,\n",
    "                                learning_method='online',\n",
    "                                learning_offset=10.,\n",
    "                                random_state=12,\n",
    "                               doc_topic_prior=0.05)\n",
    "\n",
    "lda.fit(transX)\n",
    "\n",
    "# for topic in range(n):\n",
    "#     print(f\"TOPIC {topic}\")\n",
    "#     for j in np.argsort(-lda.components_,1)[topic,:10]:\n",
    "#         print(features[j])\n",
    "#     print()"
   ]
  },
  {
   "cell_type": "code",
   "execution_count": 8,
   "metadata": {},
   "outputs": [],
   "source": [
    "lda_topics = []\n",
    "for topic in range(n):\n",
    "    word_list = []\n",
    "    for j in np.argsort(-lda.components_,1)[topic,:30]:\n",
    "        word_list.append(features[j])\n",
    "    lda_topics.append(word_list)\n",
    "\n",
    "lda_X = lda.transform(transX)"
   ]
  },
  {
   "cell_type": "code",
   "execution_count": 14,
   "metadata": {},
   "outputs": [],
   "source": [
    "lda_viz = pyLDAvis.sklearn.prepare(lda, transX, cv_vect)\n",
    "# pyLDAvis.save_html(lda_viz, f'Data/pyLDAvis_AllLyrics_LDA{n}.html')  # see html file to view visualization"
   ]
  },
  {
   "cell_type": "code",
   "execution_count": 10,
   "metadata": {},
   "outputs": [],
   "source": [
    "u.pkl_this('Data/lda_transformed_mtx.pkl', lda_X)"
   ]
  },
  {
   "cell_type": "code",
   "execution_count": 9,
   "metadata": {},
   "outputs": [
    {
     "data": {
      "text/plain": [
       "[['gonna',\n",
       "  'lie',\n",
       "  'dance',\n",
       "  'boom',\n",
       "  'bubble',\n",
       "  'dang',\n",
       "  'dance dance',\n",
       "  'around',\n",
       "  'lie lie',\n",
       "  'ring',\n",
       "  'butt',\n",
       "  'boom boom',\n",
       "  'cowboy',\n",
       "  'amazing',\n",
       "  'open',\n",
       "  'beat',\n",
       "  'wicked',\n",
       "  'amazing amazing',\n",
       "  'ever gonna',\n",
       "  'night',\n",
       "  'around around',\n",
       "  'ew',\n",
       "  'luv',\n",
       "  'another round',\n",
       "  'gonna wish',\n",
       "  'name',\n",
       "  'world',\n",
       "  'kick',\n",
       "  'dang dang',\n",
       "  'wide'],\n",
       " ['baby',\n",
       "  'girl',\n",
       "  'love',\n",
       "  'tonight',\n",
       "  'baby baby',\n",
       "  'hangover',\n",
       "  'want',\n",
       "  'hangover hangover',\n",
       "  'girl girl',\n",
       "  'still',\n",
       "  'stay',\n",
       "  'love still',\n",
       "  'mmm',\n",
       "  'little',\n",
       "  'lips',\n",
       "  'still love',\n",
       "  'ba',\n",
       "  'time',\n",
       "  'tired',\n",
       "  'jingle',\n",
       "  'whistle',\n",
       "  'around',\n",
       "  'girl gotta',\n",
       "  'love baby',\n",
       "  'play',\n",
       "  'come',\n",
       "  'seat',\n",
       "  'tonight tonight',\n",
       "  'turning',\n",
       "  'give'],\n",
       " ['little',\n",
       "  'little bit',\n",
       "  'bit',\n",
       "  'burn',\n",
       "  'moonlight',\n",
       "  'drink',\n",
       "  'slow',\n",
       "  'turn',\n",
       "  'double',\n",
       "  'hmm',\n",
       "  'party',\n",
       "  'sweet',\n",
       "  'turn turn',\n",
       "  'getting',\n",
       "  'hmm hmm',\n",
       "  'drink little',\n",
       "  'dee',\n",
       "  'high',\n",
       "  'parking lot',\n",
       "  'dee double',\n",
       "  'parking',\n",
       "  'else',\n",
       "  'man love',\n",
       "  'bama',\n",
       "  'gonna drink',\n",
       "  'roads',\n",
       "  'summer nights',\n",
       "  'nobody',\n",
       "  'bottle',\n",
       "  'wasted'],\n",
       " ['boo',\n",
       "  'bitch',\n",
       "  'nigga',\n",
       "  'fuck',\n",
       "  'shit',\n",
       "  'bounce',\n",
       "  'watch',\n",
       "  'boo boo',\n",
       "  'shots',\n",
       "  'niggas',\n",
       "  'gang',\n",
       "  'bounce bounce',\n",
       "  'keys',\n",
       "  'peek',\n",
       "  'new',\n",
       "  'man',\n",
       "  'pussy',\n",
       "  'took',\n",
       "  'peek boo',\n",
       "  'bout',\n",
       "  'nothin',\n",
       "  'wee',\n",
       "  'gon',\n",
       "  'hol',\n",
       "  'feel',\n",
       "  'vibe',\n",
       "  'worried',\n",
       "  'wee wee',\n",
       "  'fu',\n",
       "  'top'],\n",
       " ['walk',\n",
       "  'woah',\n",
       "  'keep',\n",
       "  'talk',\n",
       "  'gotta',\n",
       "  'whoa',\n",
       "  'woah woah',\n",
       "  'wop',\n",
       "  'much',\n",
       "  'em',\n",
       "  'said',\n",
       "  'walk walk',\n",
       "  'lit',\n",
       "  'right',\n",
       "  'whoa whoa',\n",
       "  'wasted',\n",
       "  'show',\n",
       "  'ey',\n",
       "  'somethin',\n",
       "  'give',\n",
       "  'movin',\n",
       "  'ass ass',\n",
       "  'take take',\n",
       "  'bam',\n",
       "  'care',\n",
       "  'walk talk',\n",
       "  'take',\n",
       "  'ever',\n",
       "  'talk walk',\n",
       "  'errbody'],\n",
       " ['nigga',\n",
       "  'bitch',\n",
       "  'shit',\n",
       "  'niggas',\n",
       "  'fuck',\n",
       "  'money',\n",
       "  'want',\n",
       "  'gon',\n",
       "  'em',\n",
       "  'say',\n",
       "  'ass',\n",
       "  'put',\n",
       "  'need',\n",
       "  'man',\n",
       "  'tell',\n",
       "  'bitches',\n",
       "  'hit',\n",
       "  'real',\n",
       "  'way',\n",
       "  'never',\n",
       "  'baby',\n",
       "  'look',\n",
       "  'take',\n",
       "  'new',\n",
       "  'bout',\n",
       "  'right',\n",
       "  'gotta',\n",
       "  'girl',\n",
       "  'bad',\n",
       "  'tryna'],\n",
       " ['red',\n",
       "  'pum',\n",
       "  'gotta gotta',\n",
       "  'boss',\n",
       "  'gotta',\n",
       "  'pum pum',\n",
       "  'boss boss',\n",
       "  'want want',\n",
       "  'red red',\n",
       "  'come come',\n",
       "  'cut',\n",
       "  'rum',\n",
       "  'ride',\n",
       "  'lolli',\n",
       "  'come',\n",
       "  'rum pum',\n",
       "  'snow',\n",
       "  'ball',\n",
       "  'want',\n",
       "  'ball ball',\n",
       "  'white',\n",
       "  'drippin',\n",
       "  'swagger',\n",
       "  'pa',\n",
       "  'cut cut',\n",
       "  'thou',\n",
       "  'ex',\n",
       "  'say',\n",
       "  'pa rum',\n",
       "  'plug'],\n",
       " ['love',\n",
       "  'time',\n",
       "  'good',\n",
       "  'girl',\n",
       "  'little',\n",
       "  'night',\n",
       "  'never',\n",
       "  'way',\n",
       "  'right',\n",
       "  'take',\n",
       "  'gonna',\n",
       "  'every',\n",
       "  'come',\n",
       "  'say',\n",
       "  'life',\n",
       "  'could',\n",
       "  'want',\n",
       "  'man',\n",
       "  'think',\n",
       "  'long',\n",
       "  'feel',\n",
       "  'baby',\n",
       "  'still',\n",
       "  'need',\n",
       "  'said',\n",
       "  'tell',\n",
       "  'heart',\n",
       "  'home',\n",
       "  'day',\n",
       "  'around'],\n",
       " ['versace',\n",
       "  'eh',\n",
       "  'nasty',\n",
       "  'merry',\n",
       "  'eh eh',\n",
       "  'christmas',\n",
       "  'blue',\n",
       "  'country',\n",
       "  'sugar',\n",
       "  'cold',\n",
       "  'boots',\n",
       "  'dirt',\n",
       "  'plenty',\n",
       "  'hitta',\n",
       "  'nasty nasty',\n",
       "  'honky',\n",
       "  'merry round',\n",
       "  'damn time',\n",
       "  'dance',\n",
       "  'panda',\n",
       "  'money plenty',\n",
       "  'bandz',\n",
       "  'tractor',\n",
       "  'spinnin',\n",
       "  'mad mad',\n",
       "  'trophy',\n",
       "  'dust',\n",
       "  'done',\n",
       "  'hittas',\n",
       "  'cranks']]"
      ]
     },
     "execution_count": 9,
     "metadata": {},
     "output_type": "execute_result"
    }
   ],
   "source": [
    "lda_topics"
   ]
  },
  {
   "cell_type": "markdown",
   "metadata": {},
   "source": [
    "## Similarity"
   ]
  },
  {
   "cell_type": "markdown",
   "metadata": {},
   "source": [
    "Songs are arranged in order of genre in dataframe: rap, then country.\n",
    "So to quickly determine if a song is more similar to rap or country songs, \n",
    "we can compute the median index of top-20 most-similar songs and see if it falls\n",
    "before or after the \"switch\" of index from rap to country"
   ]
  },
  {
   "cell_type": "markdown",
   "metadata": {},
   "source": [
    "#### Cosine Similarity"
   ]
  },
  {
   "cell_type": "code",
   "execution_count": 15,
   "metadata": {},
   "outputs": [],
   "source": [
    "cos_sim_mtx = cosine_similarity(lda_X, lda_X)\n",
    "most_sim_idx_range = [np.median(np.argsort(-x)[1:21]) for x in cos_sim_mtx]"
   ]
  },
  {
   "cell_type": "code",
   "execution_count": 17,
   "metadata": {},
   "outputs": [
    {
     "data": {
      "text/plain": [
       "[<matplotlib.lines.Line2D at 0x1a1cdcbcc0>]"
      ]
     },
     "execution_count": 17,
     "metadata": {},
     "output_type": "execute_result"
    },
    {
     "data": {
      "image/png": "[encoded data removed]",
      "text/plain": [
       "<Figure size 432x288 with 1 Axes>"
      ]
     },
     "metadata": {
      "needs_background": "light"
     },
     "output_type": "display_data"
    }
   ],
   "source": [
    "plt.plot(most_sim_idx_range, 'o', alpha=0.1)"
   ]
  },
  {
   "cell_type": "code",
   "execution_count": 20,
   "metadata": {},
   "outputs": [],
   "source": [
    "df['Most Sim Idx 1'] = pd.Series(most_sim_idx_range)"
   ]
  },
  {
   "cell_type": "markdown",
   "metadata": {},
   "source": [
    "#### Hellinger distance\n",
    "A measure of distance between two probability vectors. Note that since this is a distance, larger numbers mean less similar; smaller numbers mean more similar.\n",
    "\n",
    "code from: https://blakeboswell.github.io/2016/07/15/gensim-hellinger.html"
   ]
  },
  {
   "cell_type": "code",
   "execution_count": 30,
   "metadata": {},
   "outputs": [],
   "source": [
    "import numpy as np\n",
    "from scipy.spatial.distance import pdist, squareform\n",
    "\n",
    "def hellinger(X):\n",
    "    return squareform(pdist(np.sqrt(X)))/np.sqrt(2)"
   ]
  },
  {
   "cell_type": "code",
   "execution_count": 52,
   "metadata": {},
   "outputs": [],
   "source": [
    "hd_mtx = hellinger(lda_X)\n",
    "\n",
    "most_sim_idx_range = [np.median(np.argsort(x)[1:21]) for x in hd_mtx]\n",
    "\n",
    "df['Most Sim Idx HD'] = pd.Series(most_sim_idx_range)"
   ]
  },
  {
   "cell_type": "code",
   "execution_count": 53,
   "metadata": {},
   "outputs": [],
   "source": [
    "rap_df, cnty_df = u.rap_cnty_dfs(df)"
   ]
  },
  {
   "cell_type": "markdown",
   "metadata": {},
   "source": [
    "#### Compare the two:"
   ]
  },
  {
   "cell_type": "code",
   "execution_count": 39,
   "metadata": {},
   "outputs": [
    {
     "name": "stdout",
     "output_type": "stream",
     "text": [
      "Using Hellinger Distance:\n",
      "Rap songs more similar to Country songs:  8.64%\n",
      "Country songs more similar to Rap songs:  4.11%\n"
     ]
    }
   ],
   "source": [
    "# compute percent of songs that are \"mis-labeled\"\n",
    "rap_pct = (len(rap_df[rap_df['Most Sim Idx HD'] > country_idx_start]) / len(rap_df)) * 100 \n",
    "cnty_pct = (len(cnty_df[cnty_df['Most Sim Idx HD'] < country_idx_start]) / len(cnty_df)) * 100\n",
    "\n",
    "print(\"Using Hellinger Distance:\")\n",
    "print(f'Rap songs more similar to Country songs: {rap_pct: .2f}%') \n",
    "print(f'Country songs more similar to Rap songs: {cnty_pct: .2f}%') "
   ]
  },
  {
   "cell_type": "code",
   "execution_count": 40,
   "metadata": {},
   "outputs": [
    {
     "name": "stdout",
     "output_type": "stream",
     "text": [
      "Using Cosine Similarity:\n",
      "Rap songs more similar to Country songs:  9.42%\n",
      "Country songs more similar to Rap songs:  4.95%\n"
     ]
    }
   ],
   "source": [
    "# compute percent of songs that are \"mis-labeled\"\n",
    "rap_pct = (len(rap_df[rap_df['Most Sim Idx 1'] > country_idx_start]) / len(rap_df)) * 100 \n",
    "cnty_pct = (len(cnty_df[cnty_df['Most Sim Idx 1'] < country_idx_start]) / len(cnty_df)) * 100\n",
    "print(\"Using Cosine Similarity:\")\n",
    "print(f'Rap songs more similar to Country songs: {rap_pct: .2f}%') \n",
    "print(f'Country songs more similar to Rap songs: {cnty_pct: .2f}%') "
   ]
  },
  {
   "cell_type": "markdown",
   "metadata": {},
   "source": [
    "*Hellinger Distance performs better*"
   ]
  },
  {
   "cell_type": "code",
   "execution_count": 41,
   "metadata": {},
   "outputs": [],
   "source": [
    "df.drop(columns=['Most Sim Idx 1'], inplace=True)\n",
    "df.rename(columns={'Most Sim Idx HD': 'Meidan Most Sim Idx'}, inplace=True)\n",
    "most_sim = [np.argsort(x)[1:21] for x in hd_mtx]\n",
    "df['Top 20 Most Sim'] = pd.Series(most_sim)"
   ]
  },
  {
   "cell_type": "code",
   "execution_count": 55,
   "metadata": {},
   "outputs": [
    {
     "data": {
      "text/html": [
       "<div>\n",
       "<style scoped>\n",
       "    .dataframe tbody tr th:only-of-type {\n",
       "        vertical-align: middle;\n",
       "    }\n",
       "\n",
       "    .dataframe tbody tr th {\n",
       "        vertical-align: top;\n",
       "    }\n",
       "\n",
       "    .dataframe thead th {\n",
       "        text-align: right;\n",
       "    }\n",
       "</style>\n",
       "<table border=\"1\" class=\"dataframe\">\n",
       "  <thead>\n",
       "    <tr style=\"text-align: right;\">\n",
       "      <th></th>\n",
       "      <th>ID</th>\n",
       "      <th>Song</th>\n",
       "      <th>Artist</th>\n",
       "      <th>Album</th>\n",
       "      <th>Genre</th>\n",
       "      <th>Lyrics</th>\n",
       "      <th>Meidan Most Sim Idx</th>\n",
       "      <th>Top 20 Most Sim</th>\n",
       "    </tr>\n",
       "  </thead>\n",
       "  <tbody>\n",
       "    <tr>\n",
       "      <th>0</th>\n",
       "      <td>Lucid Dreams - Juice WRLD</td>\n",
       "      <td>Lucid Dreams</td>\n",
       "      <td>Juice WRLD</td>\n",
       "      <td>JuiceWRLD 9 9 9</td>\n",
       "      <td>rap</td>\n",
       "      <td>\\n\\n[Intro]\\nEnviyon on the mix\\nNo, no, no, n...</td>\n",
       "      <td>2085.5</td>\n",
       "      <td>[1863, 2592, 2429, 1130, 1557, 2703, 1616, 112...</td>\n",
       "    </tr>\n",
       "    <tr>\n",
       "      <th>1</th>\n",
       "      <td>Better Now - Post Malone</td>\n",
       "      <td>Better Now</td>\n",
       "      <td>Post Malone</td>\n",
       "      <td>​beerbongs &amp; bentleys</td>\n",
       "      <td>rap</td>\n",
       "      <td>\\n\\n[Chorus]\\nYou prolly think that you are be...</td>\n",
       "      <td>759.0</td>\n",
       "      <td>[558, 483, 659, 993, 857, 758, 769, 449, 862, ...</td>\n",
       "    </tr>\n",
       "    <tr>\n",
       "      <th>2</th>\n",
       "      <td>ZEZE - Kodak Black</td>\n",
       "      <td>ZEZE</td>\n",
       "      <td>Kodak Black</td>\n",
       "      <td>KB2</td>\n",
       "      <td>rap</td>\n",
       "      <td>\\n\\n[Intro]\\nD.A. got that dope!\\n\\n[Chorus: T...</td>\n",
       "      <td>196.0</td>\n",
       "      <td>[151, 124, 330, 165, 884, 130, 601, 362, 203, ...</td>\n",
       "    </tr>\n",
       "    <tr>\n",
       "      <th>3</th>\n",
       "      <td>Drip Too Hard - Lil Baby</td>\n",
       "      <td>Drip Too Hard</td>\n",
       "      <td>Lil Baby</td>\n",
       "      <td>Drip Harder</td>\n",
       "      <td>rap</td>\n",
       "      <td>\\n\\n[Intro]\\nRun that back, Turbo\\n\\n[Verse 1:...</td>\n",
       "      <td>446.0</td>\n",
       "      <td>[413, 728, 935, 620, 617, 325, 535, 339, 732, ...</td>\n",
       "    </tr>\n",
       "    <tr>\n",
       "      <th>4</th>\n",
       "      <td>Mo Bamba - Sheck Wes</td>\n",
       "      <td>Mo Bamba</td>\n",
       "      <td>Sheck Wes</td>\n",
       "      <td>MUDBOY</td>\n",
       "      <td>rap</td>\n",
       "      <td>\\n\\n[Intro]\\n16yrold\\nBitch!\\nDaytrip took it ...</td>\n",
       "      <td>424.0</td>\n",
       "      <td>[198, 303, 23, 694, 716, 665, 671, 162, 425, 2...</td>\n",
       "    </tr>\n",
       "  </tbody>\n",
       "</table>\n",
       "</div>"
      ],
      "text/plain": [
       "                          ID           Song       Artist  \\\n",
       "0  Lucid Dreams - Juice WRLD   Lucid Dreams   Juice WRLD   \n",
       "1   Better Now - Post Malone     Better Now  Post Malone   \n",
       "2         ZEZE - Kodak Black           ZEZE  Kodak Black   \n",
       "3   Drip Too Hard - Lil Baby  Drip Too Hard     Lil Baby   \n",
       "4       Mo Bamba - Sheck Wes       Mo Bamba    Sheck Wes   \n",
       "\n",
       "                   Album Genre  \\\n",
       "0        JuiceWRLD 9 9 9   rap   \n",
       "1  ​beerbongs & bentleys   rap   \n",
       "2                    KB2   rap   \n",
       "3            Drip Harder   rap   \n",
       "4                 MUDBOY   rap   \n",
       "\n",
       "                                              Lyrics  Meidan Most Sim Idx  \\\n",
       "0  \\n\\n[Intro]\\nEnviyon on the mix\\nNo, no, no, n...               2085.5   \n",
       "1  \\n\\n[Chorus]\\nYou prolly think that you are be...                759.0   \n",
       "2  \\n\\n[Intro]\\nD.A. got that dope!\\n\\n[Chorus: T...                196.0   \n",
       "3  \\n\\n[Intro]\\nRun that back, Turbo\\n\\n[Verse 1:...                446.0   \n",
       "4  \\n\\n[Intro]\\n16yrold\\nBitch!\\nDaytrip took it ...                424.0   \n",
       "\n",
       "                                     Top 20 Most Sim  \n",
       "0  [1863, 2592, 2429, 1130, 1557, 2703, 1616, 112...  \n",
       "1  [558, 483, 659, 993, 857, 758, 769, 449, 862, ...  \n",
       "2  [151, 124, 330, 165, 884, 130, 601, 362, 203, ...  \n",
       "3  [413, 728, 935, 620, 617, 325, 535, 339, 732, ...  \n",
       "4  [198, 303, 23, 694, 716, 665, 671, 162, 425, 2...  "
      ]
     },
     "execution_count": 55,
     "metadata": {},
     "output_type": "execute_result"
    }
   ],
   "source": [
    "df.head()"
   ]
  },
  {
   "cell_type": "code",
   "execution_count": 144,
   "metadata": {},
   "outputs": [],
   "source": [
    "# u.pkl_this('Data/all_lyrics_with_sim_df.pkl', df)"
   ]
  },
  {
   "cell_type": "markdown",
   "metadata": {},
   "source": [
    "## K-means Clustering"
   ]
  },
  {
   "cell_type": "code",
   "execution_count": 153,
   "metadata": {},
   "outputs": [],
   "source": [
    "n_range = np.arange(2,21)\n",
    "\n",
    "# lda_trans\n",
    "\n",
    "inerts = []\n",
    "for n in range(2,21):\n",
    "    km = KMeans(n_clusters=n)\n",
    "    km.fit(lda_X)\n",
    "    inerts.append(km.inertia_)"
   ]
  },
  {
   "cell_type": "code",
   "execution_count": 154,
   "metadata": {},
   "outputs": [
    {
     "data": {
      "image/png": "[encoded data removed]",
      "text/plain": [
       "<Figure size 432x288 with 1 Axes>"
      ]
     },
     "metadata": {
      "needs_background": "light"
     },
     "output_type": "display_data"
    }
   ],
   "source": [
    "plt.scatter(n_range, inerts)\n",
    "plt.xlabel('# of clusters')\n",
    "plt.ylabel('inertia');"
   ]
  },
  {
   "cell_type": "markdown",
   "metadata": {},
   "source": [
    "Despite all this, use 2 clusters, since this is the number of genres we have"
   ]
  },
  {
   "cell_type": "markdown",
   "metadata": {},
   "source": [
    "#### Euclidean distance (sklearn's default)"
   ]
  },
  {
   "cell_type": "code",
   "execution_count": 48,
   "metadata": {},
   "outputs": [],
   "source": [
    "n_clust = 2\n",
    "km_final = KMeans(n_clusters=n_clust)\n",
    "km_final.fit(lda_X)\n",
    "cluster_centers = km_final.cluster_centers_\n",
    "cluster_labels = km_final.labels_"
   ]
  },
  {
   "cell_type": "code",
   "execution_count": null,
   "metadata": {},
   "outputs": [],
   "source": [
    "y = n_clust"
   ]
  },
  {
   "cell_type": "code",
   "execution_count": 56,
   "metadata": {},
   "outputs": [],
   "source": [
    "df['Cluster Labels 2'] = pd.Series(cluster_labels)"
   ]
  },
  {
   "cell_type": "code",
   "execution_count": 57,
   "metadata": {},
   "outputs": [],
   "source": [
    "rap_df, cnty_df = u.rap_cnty_dfs(df)"
   ]
  },
  {
   "cell_type": "code",
   "execution_count": 67,
   "metadata": {},
   "outputs": [
    {
     "name": "stdout",
     "output_type": "stream",
     "text": [
      "[0.20804710500490678, 0.7919528949950932] [0.9746621621621622, 0.02533783783783784]\n"
     ]
    },
    {
     "data": {
      "image/png": "[encoded data removed]",
      "text/plain": [
       "<Figure size 432x288 with 1 Axes>"
      ]
     },
     "metadata": {
      "needs_background": "light"
     },
     "output_type": "display_data"
    }
   ],
   "source": [
    "rap_label_pcts = [np.sum(rap_df['Cluster Labels 2'] == i)/len(rap_df) for i in range(n_clust)] \n",
    "cnty_label_pcts = [np.sum(cnty_df['Cluster Labels 2'] == i)/len(cnty_df) for i in range(n_clust)] \n",
    "print (rap_label_pcts, cnty_label_pcts)\n",
    "\n",
    "plt.bar(range(y), rap_label_pcts, color='xkcd:teal', label='Rap')\n",
    "plt.bar(range(y), cnty_label_pcts, bottom=rap_label_pcts, color='xkcd:pink', label='Country')\n",
    "plt.xlabel('Cluster #')\n",
    "plt.ylabel('Fraction belonging to cluster')\n",
    "plt.xticks(range(y), labels=[f'{i+1}' for i in range(y)])\n",
    "plt.legend();"
   ]
  },
  {
   "cell_type": "markdown",
   "metadata": {},
   "source": [
    "#### Cosine Distance (nltk)\n",
    "https://stackoverflow.com/questions/5529625/is-it-possible-to-specify-your-own-distance-function-using-scikit-learn-k-means"
   ]
  },
  {
   "cell_type": "code",
   "execution_count": null,
   "metadata": {},
   "outputs": [],
   "source": [
    "from nltk.cluster.kmeans import KMeansClusterer\n",
    "from nltk.cluster.util import cosine_distance\n",
    "\n",
    "kmc = KMeansClusterer(n_clust, distance=cosine_distance, repeats=25)\n",
    "assigned_clusters = kmc.cluster(lda_X, assign_clusters=True)"
   ]
  },
  {
   "cell_type": "code",
   "execution_count": 62,
   "metadata": {},
   "outputs": [],
   "source": [
    "df['Cluster Labels 2 Cosine'] = pd.Series(assigned_clusters)"
   ]
  },
  {
   "cell_type": "code",
   "execution_count": 63,
   "metadata": {},
   "outputs": [],
   "source": [
    "rap_df, cnty_df = u.rap_cnty_dfs(df)"
   ]
  },
  {
   "cell_type": "code",
   "execution_count": 74,
   "metadata": {},
   "outputs": [
    {
     "name": "stdout",
     "output_type": "stream",
     "text": [
      "[0.745829244357213, 0.25417075564278707] [0.01126126126126126, 0.9887387387387387]\n"
     ]
    },
    {
     "data": {
      "image/png": "[encoded data removed]",
      "text/plain": [
       "<Figure size 432x288 with 1 Axes>"
      ]
     },
     "metadata": {
      "needs_background": "light"
     },
     "output_type": "display_data"
    }
   ],
   "source": [
    "rap_label_pcts = [np.sum(rap_df['Cluster Labels 2 Cosine'] == i)/len(rap_df) for i in range(n_clust)] \n",
    "cnty_label_pcts = [np.sum(cnty_df['Cluster Labels 2 Cosine'] == i)/len(cnty_df) for i in range(n_clust)] \n",
    "\n",
    "print (rap_label_pcts, cnty_label_pcts)\n",
    "\n",
    "y = n_clust\n",
    "plt.bar(range(y), rap_label_pcts, color='xkcd:teal', label='Rap')\n",
    "plt.bar(range(y), cnty_label_pcts, bottom=rap_label_pcts, color='xkcd:pink', label='Country')\n",
    "plt.xlabel('Cluster #')\n",
    "plt.ylabel('Fraction belonging to cluster')\n",
    "plt.xticks(range(y), labels=[f'{i+1}' for i in range(y)])\n",
    "plt.legend();"
   ]
  },
  {
   "cell_type": "markdown",
   "metadata": {},
   "source": [
    "#### Hellinger Distance"
   ]
  },
  {
   "cell_type": "code",
   "execution_count": 70,
   "metadata": {},
   "outputs": [],
   "source": [
    "# write HD function differently so it can be used in clustering function\n",
    "\n",
    "from scipy.linalg import norm\n",
    "from scipy.spatial.distance import euclidean\n",
    "\n",
    "_SQRT2 = np.sqrt(2)     # sqrt(2) with default precision np.float64\n",
    "\n",
    "def hellinger2(p, q):\n",
    "    return norm(np.sqrt(p) - np.sqrt(q)) / _SQRT2"
   ]
  },
  {
   "cell_type": "code",
   "execution_count": 71,
   "metadata": {},
   "outputs": [],
   "source": [
    "kmc_hd = KMeansClusterer(n_clust, distance=hellinger2, repeats=25)\n",
    "assigned_clusters_hd = kmc_hd.cluster(lda_X, assign_clusters=True)\n",
    "\n",
    "df['Cluster Labels 2 HD'] = pd.Series(assigned_clusters_hd)"
   ]
  },
  {
   "cell_type": "code",
   "execution_count": 72,
   "metadata": {},
   "outputs": [],
   "source": [
    "rap_df, cnty_df = u.rap_cnty_dfs(df)"
   ]
  },
  {
   "cell_type": "code",
   "execution_count": 75,
   "metadata": {},
   "outputs": [
    {
     "name": "stdout",
     "output_type": "stream",
     "text": [
      "[0.8096172718351324, 0.1903827281648675] [0.018581081081081082, 0.981418918918919]\n"
     ]
    },
    {
     "data": {
      "image/png": "[encoded data removed]",
      "text/plain": [
       "<Figure size 432x288 with 1 Axes>"
      ]
     },
     "metadata": {
      "needs_background": "light"
     },
     "output_type": "display_data"
    }
   ],
   "source": [
    "rap_label_pcts = [np.sum(rap_df['Cluster Labels 2 HD'] == i)/len(rap_df) for i in range(n_clust)] \n",
    "cnty_label_pcts = [np.sum(cnty_df['Cluster Labels 2 HD'] == i)/len(cnty_df) for i in range(n_clust)] \n",
    "print (rap_label_pcts, cnty_label_pcts)\n",
    "\n",
    "plt.bar(range(n_clust), rap_label_pcts, color='xkcd:teal', label='Rap')\n",
    "plt.bar(range(n_clust), cnty_label_pcts, bottom=rap_label_pcts, color='xkcd:pink', label='Country')\n",
    "plt.xlabel('Cluster #')\n",
    "plt.ylabel('Fraction belonging to cluster')\n",
    "plt.xticks(range(n_clust), labels=[f'{i}' for i in range(n_clust)])\n",
    "plt.legend();"
   ]
  },
  {
   "cell_type": "markdown",
   "metadata": {},
   "source": [
    "Hellinger Distance is \"best\""
   ]
  },
  {
   "cell_type": "code",
   "execution_count": null,
   "metadata": {},
   "outputs": [],
   "source": []
  }
 ],
 "metadata": {
  "kernelspec": {
   "display_name": "Python 3",
   "language": "python",
   "name": "python3"
  },
  "language_info": {
   "codemirror_mode": {
    "name": "ipython",
    "version": 3
   },
   "file_extension": ".py",
   "mimetype": "text/x-python",
   "name": "python",
   "nbconvert_exporter": "python",
   "pygments_lexer": "ipython3",
   "version": "3.6.6"
  }
 },
 "nbformat": 4,
 "nbformat_minor": 2
}
