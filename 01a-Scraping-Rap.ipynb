{
 "cells": [
  {
   "cell_type": "code",
   "execution_count": 270,
   "metadata": {},
   "outputs": [],
   "source": [
    "import scraping as s\n",
    "import util as u\n",
    "%load_ext autoreload\n",
    "%autoreload 2\n",
    "\n",
    "import requests\n",
    "from bs4 import BeautifulSoup\n",
    "\n",
    "import json\n",
    "import re"
   ]
  },
  {
   "cell_type": "code",
   "execution_count": 2,
   "metadata": {},
   "outputs": [],
   "source": [
    "token = 'HTVFOfb4OTB04zvV4zfmtv8Oeu5cKecEHRA_aw4gi6-4KC2kaaszNQ6yIQxLGera'"
   ]
  },
  {
   "cell_type": "markdown",
   "metadata": {},
   "source": [
    "## Notes\n",
    "- Use song-artist string as \"key\" in my database\n",
    "- Scrape genres separately"
   ]
  },
  {
   "cell_type": "markdown",
   "metadata": {},
   "source": [
    "## Billboard"
   ]
  },
  {
   "cell_type": "markdown",
   "metadata": {},
   "source": [
    "### Workflow into Genius"
   ]
  },
  {
   "cell_type": "markdown",
   "metadata": {},
   "source": [
    "**Cycle through weeks**"
   ]
  },
  {
   "cell_type": "code",
   "execution_count": 586,
   "metadata": {},
   "outputs": [],
   "source": [
    "top_20_base_url = 'https://www.billboard.com/charts/rap-song'\n",
    "album_base_url = 'https://genius.com/albums/'"
   ]
  },
  {
   "cell_type": "markdown",
   "metadata": {},
   "source": [
    "Scrape a week's top-20 lists. \n",
    "- Check if song-artist entry already in 'song_artist_list'\n",
    "- if not, \"do_all_the_things\""
   ]
  },
  {
   "cell_type": "markdown",
   "metadata": {},
   "source": [
    "Missing entry = Quavo - WORKIN ME - https://genius.com/Quavo-workin-me-lyrics"
   ]
  },
  {
   "cell_type": "markdown",
   "metadata": {},
   "source": [
    "Can't pickle dictionary \"recursion limit reached\". Use MongoDB instead"
   ]
  },
  {
   "cell_type": "markdown",
   "metadata": {},
   "source": [
    "## MongoDB"
   ]
  },
  {
   "cell_type": "code",
   "execution_count": 329,
   "metadata": {},
   "outputs": [],
   "source": [
    "from pymongo import MongoClient\n",
    "from pymongo import InsertOne, DeleteOne, ReplaceOne"
   ]
  },
  {
   "cell_type": "markdown",
   "metadata": {},
   "source": [
    "SSH tunnel in thru command line:\n",
    "\n",
    "```ssh -NL 12345:localhost:27017 kbfreder@```\n",
    "\n",
    "Also start Mongo from command line -- log onto AWS"
   ]
  },
  {
   "cell_type": "code",
   "execution_count": 374,
   "metadata": {},
   "outputs": [],
   "source": [
    "client = MongoClient(port=12345)"
   ]
  },
  {
   "cell_type": "code",
   "execution_count": 396,
   "metadata": {},
   "outputs": [
    {
     "data": {
      "text/plain": [
       "['admin', 'local', 'song_db']"
      ]
     },
     "execution_count": 396,
     "metadata": {},
     "output_type": "execute_result"
    }
   ],
   "source": [
    "client.list_database_names()"
   ]
  },
  {
   "cell_type": "code",
   "execution_count": 376,
   "metadata": {},
   "outputs": [],
   "source": [
    "db = client.song_db"
   ]
  },
  {
   "cell_type": "code",
   "execution_count": 377,
   "metadata": {},
   "outputs": [
    {
     "data": {
      "text/plain": [
       "['song_db']"
      ]
     },
     "execution_count": 377,
     "metadata": {},
     "output_type": "execute_result"
    }
   ],
   "source": [
    "db.collection_names()"
   ]
  },
  {
   "cell_type": "code",
   "execution_count": 383,
   "metadata": {},
   "outputs": [],
   "source": [
    "# col = db.get_collection('song_db')\n",
    "# col = db.create_collection('lyrics')\n",
    "col = db.get_collection('lyrics')"
   ]
  },
  {
   "cell_type": "code",
   "execution_count": 585,
   "metadata": {},
   "outputs": [
    {
     "data": {
      "text/plain": [
       "0"
      ]
     },
     "execution_count": 585,
     "metadata": {},
     "output_type": "execute_result"
    }
   ],
   "source": [
    "col.count()"
   ]
  },
  {
   "cell_type": "code",
   "execution_count": 592,
   "metadata": {},
   "outputs": [],
   "source": [
    "# old_song_artist_list = song_artist_list.copy()"
   ]
  },
  {
   "cell_type": "code",
   "execution_count": 593,
   "metadata": {},
   "outputs": [],
   "source": [
    "# only initialize these the first time\n",
    "song_artist_list = []\n",
    "album_url_list = []"
   ]
  },
  {
   "cell_type": "code",
   "execution_count": 674,
   "metadata": {},
   "outputs": [
    {
     "name": "stdout",
     "output_type": "stream",
     "text": [
      "Scraping charts for week of: 2010-01-01\n",
      "Performing an insert\n",
      "Scraping charts for week of: 2009-12-25\n",
      "Scraping charts for week of: 2009-12-18\n",
      "Scraping charts for week of: 2009-12-11\n",
      "Scraping charts for week of: 2009-12-04\n",
      "Scraping charts for week of: 2009-11-27\n",
      "Scraping charts for week of: 2009-11-20\n",
      "Scraping charts for week of: 2009-11-13\n",
      "Scraping charts for week of: 2009-11-06\n",
      "Scraping charts for week of: 2009-10-30\n",
      "Scraping charts for week of: 2009-10-23\n",
      "Scraping charts for week of: 2009-10-16\n",
      "Scraping charts for week of: 2009-10-09\n",
      "Scraping charts for week of: 2009-10-02\n",
      "Performing an insert\n",
      "Scraping charts for week of: 2009-09-25\n",
      "Scraping charts for week of: 2009-09-18\n",
      "Scraping charts for week of: 2009-09-11\n",
      "Scraping charts for week of: 2009-09-04\n",
      "Scraping charts for week of: 2009-08-28\n",
      "Scraping charts for week of: 2009-08-21\n",
      "Scraping charts for week of: 2009-08-14\n",
      "Scraping charts for week of: 2009-08-07\n",
      "Scraping charts for week of: 2009-07-31\n",
      "Scraping charts for week of: 2009-07-24\n",
      "Scraping charts for week of: 2009-07-17\n",
      "Scraping charts for week of: 2009-07-10\n",
      "Scraping charts for week of: 2009-07-03\n",
      "Scraping charts for week of: 2009-06-26\n",
      "Scraping charts for week of: 2009-06-19\n",
      "Performing an insert\n",
      "Scraping charts for week of: 2009-06-12\n",
      "Scraping charts for week of: 2009-06-05\n",
      "Scraping charts for week of: 2009-05-29\n",
      "Scraping charts for week of: 2009-05-22\n",
      "Scraping charts for week of: 2009-05-15\n",
      "Scraping charts for week of: 2009-05-08\n",
      "Scraping charts for week of: 2009-05-01\n",
      "Scraping charts for week of: 2009-04-24\n",
      "Scraping charts for week of: 2009-04-17\n",
      "Scraping charts for week of: 2009-04-10\n",
      "Scraping charts for week of: 2009-04-03\n",
      "Scraping charts for week of: 2009-03-27\n",
      "Performing an insert\n",
      "Scraping charts for week of: 2009-03-20\n",
      "Scraping charts for week of: 2009-03-13\n",
      "Scraping charts for week of: 2009-03-06\n",
      "Scraping charts for week of: 2009-02-27\n",
      "Scraping charts for week of: 2009-02-20\n",
      "Scraping charts for week of: 2009-02-13\n",
      "Scraping charts for week of: 2009-02-06\n",
      "Scraping charts for week of: 2009-01-30\n",
      "Scraping charts for week of: 2009-01-23\n",
      "Scraping charts for week of: 2009-01-16\n",
      "Scraping charts for week of: 2009-01-09\n",
      "Scraping charts for week of: 2009-01-02\n",
      "Scraping charts for week of: 2008-12-26\n",
      "Scraping charts for week of: 2008-12-19\n",
      "Performing an insert\n",
      "Scraping charts for week of: 2008-12-12\n",
      "Scraping charts for week of: 2008-12-05\n",
      "Scraping charts for week of: 2008-11-28\n",
      "Scraping charts for week of: 2008-11-21\n",
      "Scraping charts for week of: 2008-11-14\n",
      "Scraping charts for week of: 2008-11-07\n",
      "Scraping charts for week of: 2008-10-31\n",
      "Scraping charts for week of: 2008-10-24\n",
      "Scraping charts for week of: 2008-10-17\n",
      "Scraping charts for week of: 2008-10-10\n",
      "Scraping charts for week of: 2008-10-03\n",
      "Scraping charts for week of: 2008-09-26\n",
      "Scraping charts for week of: 2008-09-19\n",
      "Scraping charts for week of: 2008-09-12\n",
      "Performing an insert\n",
      "Scraping charts for week of: 2008-09-05\n",
      "Scraping charts for week of: 2008-08-29\n",
      "Scraping charts for week of: 2008-08-22\n",
      "Scraping charts for week of: 2008-08-15\n",
      "Scraping charts for week of: 2008-08-08\n",
      "Scraping charts for week of: 2008-08-01\n",
      "Scraping charts for week of: 2008-07-25\n",
      "Scraping charts for week of: 2008-07-18\n",
      "Scraping charts for week of: 2008-07-11\n",
      "Scraping charts for week of: 2008-07-04\n",
      "Scraping charts for week of: 2008-06-27\n",
      "Scraping charts for week of: 2008-06-20\n",
      "Scraping charts for week of: 2008-06-13\n",
      "Scraping charts for week of: 2008-06-06\n",
      "Performing an insert\n",
      "Scraping charts for week of: 2008-05-30\n",
      "Scraping charts for week of: 2008-05-23\n",
      "Scraping charts for week of: 2008-05-16\n",
      "Scraping charts for week of: 2008-05-09\n",
      "Scraping charts for week of: 2008-05-02\n",
      "Scraping charts for week of: 2008-04-25\n",
      "Scraping charts for week of: 2008-04-18\n",
      "Scraping charts for week of: 2008-04-11\n",
      "Scraping charts for week of: 2008-04-04\n",
      "Scraping charts for week of: 2008-03-28\n",
      "Scraping charts for week of: 2008-03-21\n",
      "Performing an insert\n",
      "Scraping charts for week of: 2008-03-14\n",
      "Scraping charts for week of: 2008-03-07\n",
      "Scraping charts for week of: 2008-02-29\n",
      "Scraping charts for week of: 2008-02-22\n",
      "Scraping charts for week of: 2008-02-15\n",
      "Scraping charts for week of: 2008-02-08\n",
      "Scraping charts for week of: 2008-02-01\n",
      "Scraping charts for week of: 2008-01-25\n",
      "Scraping charts for week of: 2008-01-18\n",
      "Scraping charts for week of: 2008-01-11\n",
      "Scraping charts for week of: 2008-01-04\n",
      "Done\n"
     ]
    }
   ],
   "source": [
    "first_date = dt.datetime(2010,1,1)\n",
    "stop_date = dt.datetime(2008,1,1)\n",
    "\n",
    "next_date = first_date\n",
    "temp_dict = {}\n",
    "\n",
    "while next_date > stop_date:\n",
    "    next_url = next_date.strftime(\"%Y-%m-%d\")\n",
    "    url = f'{top_20_base_url}/{next_url}'\n",
    "    print(f'Scraping charts for week of: {next_url}')#, end = '\\r')\n",
    "\n",
    "    new_list = s.scrape_top_20(url)\n",
    "    \n",
    "    for entry in new_list:\n",
    "        if entry not in song_artist_list:\n",
    "#             print(\"Adding new entry! \", entry)\n",
    "            song_entry = s.get_song_entry(entry)\n",
    "            temp_dict[song_entry[0]] = song_entry[1]\n",
    "            song_artist_list.append(entry)\n",
    "            \n",
    "            album_url = song_entry[2]\n",
    "            if album_url not in album_url_list:\n",
    "                album_url_list.append(album_url)\n",
    "        \n",
    "    if len(temp_dict) > 20:\n",
    "        print(\"Performing an insert\")\n",
    "        col.insert_many(temp_dict.values())\n",
    "        temp_dict = {}\n",
    "        \n",
    "    next_date -= dt.timedelta(days=7)\n",
    "\n",
    "\n",
    "if len(temp_dict) != 0:\n",
    "    col.insert_many(temp_dict.values())\n",
    "    temp_dict={}\n",
    "\n",
    "print ('Done')"
   ]
  },
  {
   "cell_type": "code",
   "execution_count": 636,
   "metadata": {},
   "outputs": [
    {
     "data": {
      "text/plain": [
       "0"
      ]
     },
     "execution_count": 636,
     "metadata": {},
     "output_type": "execute_result"
    }
   ],
   "source": [
    "len(temp_dict)"
   ]
  },
  {
   "cell_type": "code",
   "execution_count": 628,
   "metadata": {},
   "outputs": [],
   "source": [
    "# col.insert_many(temp_dict.values())"
   ]
  },
  {
   "cell_type": "code",
   "execution_count": 675,
   "metadata": {},
   "outputs": [
    {
     "data": {
      "text/plain": [
       "1093"
      ]
     },
     "execution_count": 675,
     "metadata": {},
     "output_type": "execute_result"
    }
   ],
   "source": [
    "col.count()"
   ]
  },
  {
   "cell_type": "code",
   "execution_count": 676,
   "metadata": {},
   "outputs": [
    {
     "data": {
      "text/plain": [
       "1112"
      ]
     },
     "execution_count": 676,
     "metadata": {},
     "output_type": "execute_result"
    }
   ],
   "source": [
    "len(song_artist_list)"
   ]
  },
  {
   "cell_type": "code",
   "execution_count": 677,
   "metadata": {},
   "outputs": [
    {
     "data": {
      "text/plain": [
       "473"
      ]
     },
     "execution_count": 677,
     "metadata": {},
     "output_type": "execute_result"
    }
   ],
   "source": [
    "len(album_url_list)"
   ]
  },
  {
   "cell_type": "code",
   "execution_count": 678,
   "metadata": {},
   "outputs": [
    {
     "data": {
      "text/plain": [
       "0"
      ]
     },
     "execution_count": 678,
     "metadata": {},
     "output_type": "execute_result"
    }
   ],
   "source": [
    "# Check for duplicates\n",
    "len(list(col.aggregate ( [\n",
    "    {'$group': {'_id': {\"song\":\"$song\", \"artist\":\"$artist\"}, \"unique_ids\": {\"$addToSet\": \"$_id\"}, \"count\": {\"$sum\": 1}}},\n",
    "    {\"$match\": {\"count\": { \"$gte\": 2}}},\n",
    "    { \"$group\": { '_id': None, \"count\": { \"$sum\": 1 } } }\n",
    "    ])))\n"
   ]
  },
  {
   "cell_type": "markdown",
   "metadata": {},
   "source": [
    "## Make a back-up"
   ]
  },
  {
   "cell_type": "code",
   "execution_count": 679,
   "metadata": {},
   "outputs": [
    {
     "data": {
      "text/plain": [
       "Collection(Database(MongoClient(host=['localhost:12345'], document_class=dict, tz_aware=False, connect=True), 'song_db'), 'lyrics_backup')"
      ]
     },
     "execution_count": 679,
     "metadata": {},
     "output_type": "execute_result"
    }
   ],
   "source": [
    "db.create_collection('lyrics_backup')"
   ]
  },
  {
   "cell_type": "code",
   "execution_count": 680,
   "metadata": {},
   "outputs": [
    {
     "data": {
      "text/plain": [
       "<pymongo.command_cursor.CommandCursor at 0x116f34048>"
      ]
     },
     "execution_count": 680,
     "metadata": {},
     "output_type": "execute_result"
    }
   ],
   "source": [
    "pipeline = [ {\"$match\": {}}, \n",
    "             {\"$out\": \"lyrics_backup\"},\n",
    "]\n",
    "\n",
    "col.aggregate(pipeline)"
   ]
  },
  {
   "cell_type": "code",
   "execution_count": 681,
   "metadata": {},
   "outputs": [
    {
     "data": {
      "text/plain": [
       "1093"
      ]
     },
     "execution_count": 681,
     "metadata": {},
     "output_type": "execute_result"
    }
   ],
   "source": [
    "db.lyrics_backup.estimated_document_count()"
   ]
  },
  {
   "cell_type": "markdown",
   "metadata": {},
   "source": [
    "### Add 'genre' field to lyrics collection"
   ]
  },
  {
   "cell_type": "code",
   "execution_count": 690,
   "metadata": {},
   "outputs": [
    {
     "data": {
      "text/plain": [
       "<pymongo.results.UpdateResult at 0x113a24c08>"
      ]
     },
     "execution_count": 690,
     "metadata": {},
     "output_type": "execute_result"
    }
   ],
   "source": [
    "db.lyrics_backup.update_many({},\n",
    "                          {'$set' : {\"genre\":\"rap\"}},\n",
    "                          upsert = False)"
   ]
  },
  {
   "cell_type": "code",
   "execution_count": 691,
   "metadata": {
    "collapsed": true
   },
   "outputs": [
    {
     "data": {
      "text/plain": [
       "{'_id': ObjectId('5be20619a034d70ca6902a09'),\n",
       " 'song': 'Lucid Dreams',\n",
       " 'artist': 'Juice WRLD',\n",
       " 'album': 'JuiceWRLD 9 9 9',\n",
       " 'lyrics': \"\\n\\n[Intro]\\nEnviyon on the mix\\nNo, no, no, no\\nNo-no, no, no, no\\nNo, no, no, no, no\\nNo, no, no, no\\n\\n[Chorus]\\nI still see your shadows in my room\\nCan't take back the love that I gave you\\nIt's to the point where I love and I hate you\\nAnd I cannot change you, so I must replace you, oh\\nEasier said than done, I thought you were the one\\nListenin' to my heart instead of my head\\nYou found another one, but I am the better one\\nI won't let you forget me\\nI still see your shadows in my room\\nCan't take back the love that I gave you\\nIt's to the point where I love and I hate you\\nAnd I cannot change you, so I must replace you, oh\\nEasier said than done, I thought you were the one\\nListenin' to my heart instead of my head\\nYou found another one, but I am the better one\\nI won't let you forget me\\n\\n[Verse]\\nYou left me falling and landing inside my grave\\nI know that you want me dead\\nI take prescriptions to make me feel a-okay\\nI know it's all in my head\\nI have these lucid dreams where I can't move a thing\\nThinking of you in my bed\\nYou were my everything\\nThoughts of a wedding ring\\nNow I'm just better off dead\\nI'll do it over again\\nI didn't want it to end\\nI watch it blow in the wind\\nI should've listened to my friends\\nLeave this shit in the past, but I want it to last\\nYou were made outta plastic, fake\\nI was tangled up in your drastic ways\\nWho knew evil girls had the prettiest face?\\nYou gave me a heart that was full of mistakes\\nI gave you my heart and you made heart break\\n\\n[Bridge]\\nYou made my heart break\\nYou made my heart ache (I still see your shadows in my room)\\nYou made my heart break\\nYou made my heart ache (can't take back the love that I gave you)\\nYou made my heart break (were made outta plastic, fake)\\nYou made my heart ache (I still see your shadows in my room)\\nYou made my heart break again (I was tangled up in your drastic ways)\\n(Who knew evil girls had the prettiest face?)\\n\\n[Chorus]\\nI still see your shadows in my room\\nCan't take back the love that I gave you\\nIt's to the point where I love and I hate you\\nAnd I cannot change you, so I must replace you, oh\\nEasier said than done, I thought you were the one\\nListenin' to my heart instead of my head\\nYou found another one, but I am the better one\\nI won't let you forget me\\nI still see your shadows in my room\\nCan't take back the love that I gave you\\nIt's to the point where I love and I hate you\\nAnd I cannot change you, so I must replace you, oh\\nEasier said than done, I thought you were the one\\nListenin' to my heart instead of my head\\nYou found another one, but I am the better one\\nI won't let you forget me\\n\\n[Outro]\\nLeave this shit in the past, but I wanted to last\\nYou were made outta plastic, fake\\nI was tangled up in your drastic ways\\nWho knew evil girls had the prettiest face?\\nEasier said than done, I thought you were...\\n...instead of my head\\nYou found another...\\n...better one\\nI won't let you forget me\\n\\n\",\n",
       " 'genre': 'rap'}"
      ]
     },
     "execution_count": 691,
     "metadata": {},
     "output_type": "execute_result"
    }
   ],
   "source": [
    "db.lyrics_backup.find_one()"
   ]
  },
  {
   "cell_type": "code",
   "execution_count": 692,
   "metadata": {},
   "outputs": [
    {
     "data": {
      "text/plain": [
       "<pymongo.results.UpdateResult at 0x115cdfd48>"
      ]
     },
     "execution_count": 692,
     "metadata": {},
     "output_type": "execute_result"
    }
   ],
   "source": [
    "col.update_many({}, {'$set' : {\"genre\":\"rap\"}}, upsert = False)"
   ]
  },
  {
   "cell_type": "code",
   "execution_count": 693,
   "metadata": {
    "collapsed": true
   },
   "outputs": [
    {
     "data": {
      "text/plain": [
       "{'_id': ObjectId('5be20619a034d70ca6902a09'),\n",
       " 'song': 'Lucid Dreams',\n",
       " 'artist': 'Juice WRLD',\n",
       " 'album': 'JuiceWRLD 9 9 9',\n",
       " 'lyrics': \"\\n\\n[Intro]\\nEnviyon on the mix\\nNo, no, no, no\\nNo-no, no, no, no\\nNo, no, no, no, no\\nNo, no, no, no\\n\\n[Chorus]\\nI still see your shadows in my room\\nCan't take back the love that I gave you\\nIt's to the point where I love and I hate you\\nAnd I cannot change you, so I must replace you, oh\\nEasier said than done, I thought you were the one\\nListenin' to my heart instead of my head\\nYou found another one, but I am the better one\\nI won't let you forget me\\nI still see your shadows in my room\\nCan't take back the love that I gave you\\nIt's to the point where I love and I hate you\\nAnd I cannot change you, so I must replace you, oh\\nEasier said than done, I thought you were the one\\nListenin' to my heart instead of my head\\nYou found another one, but I am the better one\\nI won't let you forget me\\n\\n[Verse]\\nYou left me falling and landing inside my grave\\nI know that you want me dead\\nI take prescriptions to make me feel a-okay\\nI know it's all in my head\\nI have these lucid dreams where I can't move a thing\\nThinking of you in my bed\\nYou were my everything\\nThoughts of a wedding ring\\nNow I'm just better off dead\\nI'll do it over again\\nI didn't want it to end\\nI watch it blow in the wind\\nI should've listened to my friends\\nLeave this shit in the past, but I want it to last\\nYou were made outta plastic, fake\\nI was tangled up in your drastic ways\\nWho knew evil girls had the prettiest face?\\nYou gave me a heart that was full of mistakes\\nI gave you my heart and you made heart break\\n\\n[Bridge]\\nYou made my heart break\\nYou made my heart ache (I still see your shadows in my room)\\nYou made my heart break\\nYou made my heart ache (can't take back the love that I gave you)\\nYou made my heart break (were made outta plastic, fake)\\nYou made my heart ache (I still see your shadows in my room)\\nYou made my heart break again (I was tangled up in your drastic ways)\\n(Who knew evil girls had the prettiest face?)\\n\\n[Chorus]\\nI still see your shadows in my room\\nCan't take back the love that I gave you\\nIt's to the point where I love and I hate you\\nAnd I cannot change you, so I must replace you, oh\\nEasier said than done, I thought you were the one\\nListenin' to my heart instead of my head\\nYou found another one, but I am the better one\\nI won't let you forget me\\nI still see your shadows in my room\\nCan't take back the love that I gave you\\nIt's to the point where I love and I hate you\\nAnd I cannot change you, so I must replace you, oh\\nEasier said than done, I thought you were the one\\nListenin' to my heart instead of my head\\nYou found another one, but I am the better one\\nI won't let you forget me\\n\\n[Outro]\\nLeave this shit in the past, but I wanted to last\\nYou were made outta plastic, fake\\nI was tangled up in your drastic ways\\nWho knew evil girls had the prettiest face?\\nEasier said than done, I thought you were...\\n...instead of my head\\nYou found another...\\n...better one\\nI won't let you forget me\\n\\n\",\n",
       " 'genre': 'rap'}"
      ]
     },
     "execution_count": 693,
     "metadata": {},
     "output_type": "execute_result"
    }
   ],
   "source": [
    "col.find_one()"
   ]
  },
  {
   "cell_type": "markdown",
   "metadata": {},
   "source": [
    "## Save stuff"
   ]
  },
  {
   "cell_type": "markdown",
   "metadata": {},
   "source": [
    "- incorporate inserting / writing in MongoDB as part of work flow\n",
    "- cycle over more weeks"
   ]
  },
  {
   "cell_type": "code",
   "execution_count": 1,
   "metadata": {},
   "outputs": [],
   "source": [
    "# import dill\n",
    "# dill.dump_session('Data/session_dumps/session_20181106.pkl')"
   ]
  },
  {
   "cell_type": "code",
   "execution_count": 694,
   "metadata": {},
   "outputs": [],
   "source": [
    "u.pkl_this('Data/song_artist_list.pkl', song_artist_list)\n",
    "u.pkl_this('Data/album_url_list.pkl', album_url_list)"
   ]
  },
  {
   "cell_type": "code",
   "execution_count": null,
   "metadata": {},
   "outputs": [],
   "source": []
  }
 ],
 "metadata": {
  "kernelspec": {
   "display_name": "Python 3",
   "language": "python",
   "name": "python3"
  },
  "language_info": {
   "codemirror_mode": {
    "name": "ipython",
    "version": 3
   },
   "file_extension": ".py",
   "mimetype": "text/x-python",
   "name": "python",
   "nbconvert_exporter": "python",
   "pygments_lexer": "ipython3",
   "version": "3.6.6"
  }
 },
 "nbformat": 4,
 "nbformat_minor": 2
}
