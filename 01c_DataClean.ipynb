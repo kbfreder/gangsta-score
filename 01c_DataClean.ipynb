{
 "cells": [
  {
   "cell_type": "code",
   "execution_count": 34,
   "metadata": {},
   "outputs": [
    {
     "name": "stdout",
     "output_type": "stream",
     "text": [
      "The autoreload extension is already loaded. To reload it, use:\n",
      "  %reload_ext autoreload\n"
     ]
    }
   ],
   "source": [
    "# import scraping as s\n",
    "import util as u\n",
    "%load_ext autoreload\n",
    "%autoreload 2\n",
    "\n",
    "import re"
   ]
  },
  {
   "cell_type": "code",
   "execution_count": 2,
   "metadata": {},
   "outputs": [],
   "source": [
    "import matplotlib.pyplot as plt"
   ]
  },
  {
   "cell_type": "code",
   "execution_count": 3,
   "metadata": {},
   "outputs": [],
   "source": [
    "from pymongo import MongoClient"
   ]
  },
  {
   "cell_type": "code",
   "execution_count": 4,
   "metadata": {},
   "outputs": [],
   "source": [
    "import numpy as np"
   ]
  },
  {
   "cell_type": "markdown",
   "metadata": {},
   "source": [
    "## Load data from MongoDB"
   ]
  },
  {
   "cell_type": "markdown",
   "metadata": {},
   "source": [
    "SSH tunnel in thru command line:\n",
    "\n",
    "```ssh -NL 12345:localhost:27017 kbfreder@```\n",
    "\n",
    "Also start Mongo from command line -- log onto AWS"
   ]
  },
  {
   "cell_type": "code",
   "execution_count": 5,
   "metadata": {},
   "outputs": [],
   "source": [
    "client = MongoClient(port=12345)"
   ]
  },
  {
   "cell_type": "code",
   "execution_count": 6,
   "metadata": {},
   "outputs": [
    {
     "data": {
      "text/plain": [
       "['admin', 'local', 'song_db']"
      ]
     },
     "execution_count": 6,
     "metadata": {},
     "output_type": "execute_result"
    }
   ],
   "source": [
    "client.list_database_names()"
   ]
  },
  {
   "cell_type": "code",
   "execution_count": 6,
   "metadata": {},
   "outputs": [],
   "source": [
    "db = client.song_db"
   ]
  },
  {
   "cell_type": "code",
   "execution_count": 8,
   "metadata": {},
   "outputs": [
    {
     "data": {
      "text/plain": [
       "['lyrics_backup', 'lyrics', 'song_db']"
      ]
     },
     "execution_count": 8,
     "metadata": {},
     "output_type": "execute_result"
    }
   ],
   "source": [
    "db.list_collection_names()"
   ]
  },
  {
   "cell_type": "code",
   "execution_count": 7,
   "metadata": {},
   "outputs": [],
   "source": [
    "# col = db.get_collection('song_db')\n",
    "# col = db.create_collection('lyrics')\n",
    "col = db.get_collection('lyrics')"
   ]
  },
  {
   "cell_type": "code",
   "execution_count": 8,
   "metadata": {},
   "outputs": [
    {
     "data": {
      "text/plain": [
       "3042"
      ]
     },
     "execution_count": 8,
     "metadata": {},
     "output_type": "execute_result"
    }
   ],
   "source": [
    "col.estimated_document_count()"
   ]
  },
  {
   "cell_type": "code",
   "execution_count": 9,
   "metadata": {},
   "outputs": [],
   "source": [
    "text = []\n",
    "for doc in col.find({}):\n",
    "    text.append([doc['song'] + ' - ' + doc['artist'], \n",
    "                 doc['song'], doc['artist'], doc['album'], doc['genre'], doc['lyrics']])"
   ]
  },
  {
   "cell_type": "code",
   "execution_count": 10,
   "metadata": {},
   "outputs": [
    {
     "data": {
      "text/plain": [
       "3042"
      ]
     },
     "execution_count": 10,
     "metadata": {},
     "output_type": "execute_result"
    }
   ],
   "source": [
    "len(text)"
   ]
  },
  {
   "cell_type": "code",
   "execution_count": 11,
   "metadata": {},
   "outputs": [],
   "source": [
    "u.pkl_this('Data/all_lyrics_181109.pkl', text)"
   ]
  },
  {
   "cell_type": "markdown",
   "metadata": {},
   "source": [
    "## Clean data"
   ]
  },
  {
   "cell_type": "code",
   "execution_count": 3,
   "metadata": {},
   "outputs": [],
   "source": [
    "# text = u.open_pkl('Data\\rap_lyrics_181106.pkl')"
   ]
  },
  {
   "cell_type": "code",
   "execution_count": 16,
   "metadata": {},
   "outputs": [],
   "source": [
    "lengths = [len(x[-1]) for x in text]"
   ]
  },
  {
   "cell_type": "code",
   "execution_count": 17,
   "metadata": {},
   "outputs": [
    {
     "data": {
      "text/plain": [
       "(array([  333.,  1177.,   714.,   399.,   262.,   101.,    35.,    12.,\n",
       "            3.,     6.]),\n",
       " array([  5.00000000e+00,   8.12300000e+02,   1.61960000e+03,\n",
       "          2.42690000e+03,   3.23420000e+03,   4.04150000e+03,\n",
       "          4.84880000e+03,   5.65610000e+03,   6.46340000e+03,\n",
       "          7.27070000e+03,   8.07800000e+03]),\n",
       " <a list of 10 Patch objects>)"
      ]
     },
     "execution_count": 17,
     "metadata": {},
     "output_type": "execute_result"
    },
    {
     "data": {
      "image/png": "[encoded data removed]",
      "text/plain": [
       "<Figure size 432x288 with 1 Axes>"
      ]
     },
     "metadata": {
      "needs_background": "light"
     },
     "output_type": "display_data"
    }
   ],
   "source": [
    "plt.hist(lengths)"
   ]
  },
  {
   "cell_type": "code",
   "execution_count": 18,
   "metadata": {},
   "outputs": [],
   "source": [
    "lengths.sort()"
   ]
  },
  {
   "cell_type": "code",
   "execution_count": 19,
   "metadata": {},
   "outputs": [
    {
     "data": {
      "text/plain": [
       "[<matplotlib.lines.Line2D at 0x1109e1da0>]"
      ]
     },
     "execution_count": 19,
     "metadata": {},
     "output_type": "execute_result"
    },
    {
     "data": {
      "image/png": "[encoded data removed]",
      "text/plain": [
       "<Figure size 432x288 with 1 Axes>"
      ]
     },
     "metadata": {
      "needs_background": "light"
     },
     "output_type": "display_data"
    }
   ],
   "source": [
    "plt.plot(lengths, 'o')"
   ]
  },
  {
   "cell_type": "code",
   "execution_count": 20,
   "metadata": {},
   "outputs": [
    {
     "data": {
      "image/png": "[encoded data removed]",
      "text/plain": [
       "<Figure size 432x288 with 1 Axes>"
      ]
     },
     "metadata": {
      "needs_background": "light"
     },
     "output_type": "display_data"
    }
   ],
   "source": [
    "plt.plot(lengths, 'o')\n",
    "plt.axis([0,400,0,1000]);"
   ]
  },
  {
   "cell_type": "markdown",
   "metadata": {},
   "source": [
    "cut-off can be > 50"
   ]
  },
  {
   "cell_type": "code",
   "execution_count": 21,
   "metadata": {},
   "outputs": [],
   "source": [
    "cleaned_text = [x for x in text if len(x[-1]) > 50]"
   ]
  },
  {
   "cell_type": "code",
   "execution_count": 22,
   "metadata": {},
   "outputs": [
    {
     "data": {
      "text/plain": [
       "2795"
      ]
     },
     "execution_count": 22,
     "metadata": {},
     "output_type": "execute_result"
    }
   ],
   "source": [
    "len(cleaned_text)"
   ]
  },
  {
   "cell_type": "code",
   "execution_count": 23,
   "metadata": {},
   "outputs": [],
   "source": [
    "lengths = [len(x[-1]) for x in cleaned_text]"
   ]
  },
  {
   "cell_type": "code",
   "execution_count": 24,
   "metadata": {},
   "outputs": [
    {
     "data": {
      "text/plain": [
       "(array([  376.,  1258.,   451.,   366.,   216.,    80.,    28.,    11.,\n",
       "            3.,     6.]),\n",
       " array([  327. ,  1102.1,  1877.2,  2652.3,  3427.4,  4202.5,  4977.6,\n",
       "         5752.7,  6527.8,  7302.9,  8078. ]),\n",
       " <a list of 10 Patch objects>)"
      ]
     },
     "execution_count": 24,
     "metadata": {},
     "output_type": "execute_result"
    },
    {
     "data": {
      "image/png": "[encoded data removed]",
      "text/plain": [
       "<Figure size 432x288 with 1 Axes>"
      ]
     },
     "metadata": {
      "needs_background": "light"
     },
     "output_type": "display_data"
    }
   ],
   "source": [
    "plt.hist(lengths)"
   ]
  },
  {
   "cell_type": "code",
   "execution_count": 25,
   "metadata": {},
   "outputs": [],
   "source": [
    "lengths.sort()"
   ]
  },
  {
   "cell_type": "code",
   "execution_count": 26,
   "metadata": {},
   "outputs": [
    {
     "data": {
      "text/plain": [
       "[<matplotlib.lines.Line2D at 0x110978208>]"
      ]
     },
     "execution_count": 26,
     "metadata": {},
     "output_type": "execute_result"
    },
    {
     "data": {
      "image/png": "[encoded data removed]",
      "text/plain": [
       "<Figure size 432x288 with 1 Axes>"
      ]
     },
     "metadata": {
      "needs_background": "light"
     },
     "output_type": "display_data"
    }
   ],
   "source": [
    "plt.plot(lengths, 'o')"
   ]
  },
  {
   "cell_type": "code",
   "execution_count": 27,
   "metadata": {},
   "outputs": [
    {
     "data": {
      "image/png": "[encoded data removed]",
      "text/plain": [
       "<Figure size 432x288 with 1 Axes>"
      ]
     },
     "metadata": {
      "needs_background": "light"
     },
     "output_type": "display_data"
    }
   ],
   "source": [
    "plt.plot(lengths, 'o')\n",
    "plt.axis([0,400,0,1000]);"
   ]
  },
  {
   "cell_type": "code",
   "execution_count": 28,
   "metadata": {},
   "outputs": [],
   "source": [
    "u.pkl_this('Data/cleaned_all_lyrics_181109.pkl', cleaned_text)"
   ]
  },
  {
   "cell_type": "markdown",
   "metadata": {},
   "source": [
    "## Convert into dataframe"
   ]
  },
  {
   "cell_type": "code",
   "execution_count": 30,
   "metadata": {},
   "outputs": [],
   "source": [
    "import pandas as pd"
   ]
  },
  {
   "cell_type": "code",
   "execution_count": 35,
   "metadata": {},
   "outputs": [],
   "source": [
    "lyrics = [x[-1] for x in cleaned_text]\n",
    "keys = [x[0] for x in cleaned_text]\n",
    "\n",
    "songs = [x[1] for x in cleaned_text]\n",
    "artists = [x[2] for x in cleaned_text]\n",
    "albums = [x[3] for x in cleaned_text]\n",
    "genre = [x[4] for x in cleaned_text]\n",
    "\n",
    "df = pd.DataFrame([keys, songs, artists, albums, genre, lyrics]).transpose()\n",
    "df.columns=(['ID', 'Song', 'Artist','Album','Genre','Lyrics'])"
   ]
  },
  {
   "cell_type": "code",
   "execution_count": 36,
   "metadata": {},
   "outputs": [
    {
     "data": {
      "text/html": [
       "<div>\n",
       "<style scoped>\n",
       "    .dataframe tbody tr th:only-of-type {\n",
       "        vertical-align: middle;\n",
       "    }\n",
       "\n",
       "    .dataframe tbody tr th {\n",
       "        vertical-align: top;\n",
       "    }\n",
       "\n",
       "    .dataframe thead th {\n",
       "        text-align: right;\n",
       "    }\n",
       "</style>\n",
       "<table border=\"1\" class=\"dataframe\">\n",
       "  <thead>\n",
       "    <tr style=\"text-align: right;\">\n",
       "      <th></th>\n",
       "      <th>ID</th>\n",
       "      <th>Song</th>\n",
       "      <th>Artist</th>\n",
       "      <th>Album</th>\n",
       "      <th>Genre</th>\n",
       "      <th>Lyrics</th>\n",
       "    </tr>\n",
       "  </thead>\n",
       "  <tbody>\n",
       "    <tr>\n",
       "      <th>0</th>\n",
       "      <td>Lucid Dreams - Juice WRLD</td>\n",
       "      <td>Lucid Dreams</td>\n",
       "      <td>Juice WRLD</td>\n",
       "      <td>JuiceWRLD 9 9 9</td>\n",
       "      <td>rap</td>\n",
       "      <td>\\n\\n[Intro]\\nEnviyon on the mix\\nNo, no, no, n...</td>\n",
       "    </tr>\n",
       "    <tr>\n",
       "      <th>1</th>\n",
       "      <td>Better Now - Post Malone</td>\n",
       "      <td>Better Now</td>\n",
       "      <td>Post Malone</td>\n",
       "      <td>​beerbongs &amp; bentleys</td>\n",
       "      <td>rap</td>\n",
       "      <td>\\n\\n[Chorus]\\nYou prolly think that you are be...</td>\n",
       "    </tr>\n",
       "    <tr>\n",
       "      <th>2</th>\n",
       "      <td>ZEZE - Kodak Black</td>\n",
       "      <td>ZEZE</td>\n",
       "      <td>Kodak Black</td>\n",
       "      <td>KB2</td>\n",
       "      <td>rap</td>\n",
       "      <td>\\n\\n[Intro]\\nD.A. got that dope!\\n\\n[Chorus: T...</td>\n",
       "    </tr>\n",
       "    <tr>\n",
       "      <th>3</th>\n",
       "      <td>Drip Too Hard - Lil Baby</td>\n",
       "      <td>Drip Too Hard</td>\n",
       "      <td>Lil Baby</td>\n",
       "      <td>Drip Harder</td>\n",
       "      <td>rap</td>\n",
       "      <td>\\n\\n[Intro]\\nRun that back, Turbo\\n\\n[Verse 1:...</td>\n",
       "    </tr>\n",
       "    <tr>\n",
       "      <th>4</th>\n",
       "      <td>Mo Bamba - Sheck Wes</td>\n",
       "      <td>Mo Bamba</td>\n",
       "      <td>Sheck Wes</td>\n",
       "      <td>MUDBOY</td>\n",
       "      <td>rap</td>\n",
       "      <td>\\n\\n[Intro]\\n16yrold\\nBitch!\\nDaytrip took it ...</td>\n",
       "    </tr>\n",
       "  </tbody>\n",
       "</table>\n",
       "</div>"
      ],
      "text/plain": [
       "                          ID           Song       Artist  \\\n",
       "0  Lucid Dreams - Juice WRLD   Lucid Dreams   Juice WRLD   \n",
       "1   Better Now - Post Malone     Better Now  Post Malone   \n",
       "2         ZEZE - Kodak Black           ZEZE  Kodak Black   \n",
       "3   Drip Too Hard - Lil Baby  Drip Too Hard     Lil Baby   \n",
       "4       Mo Bamba - Sheck Wes       Mo Bamba    Sheck Wes   \n",
       "\n",
       "                   Album Genre  \\\n",
       "0        JuiceWRLD 9 9 9   rap   \n",
       "1  ​beerbongs & bentleys   rap   \n",
       "2                    KB2   rap   \n",
       "3            Drip Harder   rap   \n",
       "4                 MUDBOY   rap   \n",
       "\n",
       "                                              Lyrics  \n",
       "0  \\n\\n[Intro]\\nEnviyon on the mix\\nNo, no, no, n...  \n",
       "1  \\n\\n[Chorus]\\nYou prolly think that you are be...  \n",
       "2  \\n\\n[Intro]\\nD.A. got that dope!\\n\\n[Chorus: T...  \n",
       "3  \\n\\n[Intro]\\nRun that back, Turbo\\n\\n[Verse 1:...  \n",
       "4  \\n\\n[Intro]\\n16yrold\\nBitch!\\nDaytrip took it ...  "
      ]
     },
     "execution_count": 36,
     "metadata": {},
     "output_type": "execute_result"
    }
   ],
   "source": [
    "df.head()"
   ]
  },
  {
   "cell_type": "code",
   "execution_count": 37,
   "metadata": {},
   "outputs": [],
   "source": [
    "u.pkl_this('Data/all_lyrics_df_181109.pkl', df)"
   ]
  }
 ],
 "metadata": {
  "kernelspec": {
   "display_name": "Python 3",
   "language": "python",
   "name": "python3"
  },
  "language_info": {
   "codemirror_mode": {
    "name": "ipython",
    "version": 3
   },
   "file_extension": ".py",
   "mimetype": "text/x-python",
   "name": "python",
   "nbconvert_exporter": "python",
   "pygments_lexer": "ipython3",
   "version": "3.6.6"
  }
 },
 "nbformat": 4,
 "nbformat_minor": 2
}
